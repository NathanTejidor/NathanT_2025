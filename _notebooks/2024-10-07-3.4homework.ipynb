{
 "cells": [
  {
   "cell_type": "markdown",
   "metadata": {},
   "source": [
    "---\n",
    "layout: post\n",
    "title: 3.4 Homework\n",
    "permalink: /posts/3.4-homework/\n",
    "---"
   ]
  },
  {
   "cell_type": "code",
   "execution_count": null,
   "metadata": {
    "vscode": {
     "languageId": "javascript"
    }
   },
   "outputs": [],
   "source": [
    "function countCharacters(input) {\n",
    "    var letters = (input.match(/[a-zA-Z]/g) || []).length; \n",
    "    var numbers = (input.match(/[0-9]/g) || []).length; \n",
    "    var spaces = (input.match(/ /g) || []).length; \n",
    "    var vowels = (input.match(/[aeiouAEIOU]/g) || []).length; \n",
    "\n",
    "\n",
    "    console.log(\"Total Letters:\", letters);\n",
    "    console.log(\"Total Numbers:\", numbers);\n",
    "    console.log(\"Total Spaces:\", spaces);\n",
    "    console.log(\"Total Vowels:\", vowels);\n",
    "}"
   ]
  },
  {
   "cell_type": "code",
   "execution_count": null,
   "metadata": {},
   "outputs": [],
   "source": [
    "\n",
    "def count_characters(input_string):\n",
    "    letters = len(re.findall(r'[a-zA-Z]', input_string))  \n",
    "    numbers = len(re.findall(r'[0-9]', input_string))    \n",
    "    spaces = len(re.findall(r' ', input_string))           \n",
    "    vowels = len(re.findall(r'[aeiouAEIOU]', input_string))  \n",
    "\n",
    "    print(\"Total Letters:\", letters)\n",
    "    print(\"Total Numbers:\", numbers)\n",
    "    print(\"Total Spaces:\", spaces)\n",
    "    print(\"Total Vowels:\", vowels) "
   ]
  }
 ],
 "metadata": {
  "language_info": {
   "name": "python"
  }
 },
 "nbformat": 4,
 "nbformat_minor": 2
}
