{
 "cells": [
  {
   "cell_type": "raw",
   "metadata": {
    "vscode": {
     "languageId": "raw"
    }
   },
   "source": [
    "---\n",
    "layout: post\n",
    "title: CPT / PPR\n",
    "permalink: /posts/cptandppr/\n",
    "---"
   ]
  },
  {
   "cell_type": "markdown",
   "metadata": {},
   "source": [
    "## Sequencing \n",
    "1. Retrieve JSON data from the request.\n",
    "2. Check if the data is missing.\n",
    "3. Attempt to create a new recipe object and save it to the database.\n",
    "4. Return a success message if everything goes well, or an error message if an exception occurs.\n",
    "\n",
    " <img src=\"{{site.baseurl}}/images/sequencingtri2.png\" alt=\"sequencing\"/>"
   ]
  },
  {
   "cell_type": "markdown",
   "metadata": {},
   "source": [
    "## Iteration \n",
    "In this image, the code iterates over the recipes dictionary to retrieve a specific recipe based on the provided name.\n",
    "\n",
    " <img src=\"{{site.baseurl}}/images/dictionaryexample.png\" alt=\"iteration and dictionary\"/>"
   ]
  },
  {
   "cell_type": "markdown",
   "metadata": {},
   "source": [
    "## Selection\n",
    "For the CPT Requirement of selection I have error messages that will show up on the page and in the console. \n",
    "\n",
    "In this code it checks two conditions for if they are met or not \n",
    "<li>If the data is missing.</li>\n",
    "and\n",
    "<li>If the recipe object is not found.\n",
    "</li>"
   ]
  },
  {
   "cell_type": "code",
   "execution_count": null,
   "metadata": {},
   "outputs": [],
   "source": [
    "if not data:\n",
    "    return {\"message\": \"No input data provided\"}, 400"
   ]
  },
  {
   "cell_type": "markdown",
   "metadata": {},
   "source": [
    "PPR Feature Video\n",
    "🔗 https://drive.google.com/file/d/1qlEuUKsqekmNCNdWjbSFaD4K7B1-9M4_/view?usp=sharing "
   ]
  },
  {
   "cell_type": "markdown",
   "metadata": {},
   "source": [
    "## A List being Created\n",
    "This code creates an object apiUrl with categories like chicken, beef, and vegan, where each category contains an array of URLs for different recipes."
   ]
  },
  {
   "cell_type": "code",
   "execution_count": null,
   "metadata": {
    "vscode": {
     "languageId": "javascript"
    }
   },
   "outputs": [],
   "source": [
    "const apiUrls = {\n",
    "    chicken: [\n",
    "        `${pythonURI}/api/chinese_recipe/KungPaoChicken`,\n",
    "        `${pythonURI}/api/chinese_recipe/OrangeChicken`,\n",
    "        `${pythonURI}/api/chinese_recipe/LemonChicken`\n",
    "    ],\n",
    "    beef: [\n",
    "        `${pythonURI}/api/chinese_recipe/BeefWithBroccoli`,\n",
    "        `${pythonURI}/api/chinese_recipe/MongolianBeef`\n",
    "    ],\n",
    "    vegan: [\n",
    "        `${pythonURI}/api/chinese_recipe/MapoTofu`,\n",
    "        `${pythonURI}/api/chinese_recipe/VeganKungPaoTofu`\n",
    "    ]\n",
    "};\n"
   ]
  },
  {
   "cell_type": "markdown",
   "metadata": {},
   "source": [
    "## A list being processed\n",
    "This segment of JavaScript iterates through each .recipe-button element, attaching an event listener that captures the recipe name when clicked."
   ]
  },
  {
   "cell_type": "code",
   "execution_count": null,
   "metadata": {
    "vscode": {
     "languageId": "javascript"
    }
   },
   "outputs": [],
   "source": [
    "document.querySelectorAll(\".recipe-button\").forEach((button) => {\n",
    "    button.addEventListener(\"click\", function () {\n",
    "      let recipeName = button.dataset.recipe;\n",
    "    });\n",
    "  });\n",
    "  "
   ]
  },
  {
   "cell_type": "markdown",
   "metadata": {},
   "source": [
    "## Function\n",
    "This function sends the recipe data (name, ingredients, instructions) to the backend as a JSON object to be saved. It then waits for a response and checks if the save was successful. If the save is successful, it alerts the user that the recipe was saved, and if not, there is an else statement which will show an error message if there was an error in the request."
   ]
  },
  {
   "cell_type": "code",
   "execution_count": null,
   "metadata": {
    "vscode": {
     "languageId": "javascript"
    }
   },
   "outputs": [],
   "source": [
    "async function saveRecipe(recipe) {\n",
    "    try {\n",
    "        const response = await fetch(`${pythonURI}/save_recipe`, {\n",
    "            method: 'POST',\n",
    "            headers: {\n",
    "                'Content-Type': 'application/json'\n",
    "            },\n",
    "            body: JSON.stringify({\n",
    "                \"name\": recipe.dish,\n",
    "                \"ingredients\": recipe.ingredients,\n",
    "                \"instructions\": recipe.instructions\n",
    "            })\n",
    "        });\n",
    "\n",
    "        const result = await response.json();\n",
    "\n",
    "        if (response.ok) {\n",
    "            alert('Recipe saved successfully!');\n",
    "        } else {\n",
    "            alert('Failed to save recipe.');\n",
    "        }\n",
    "    } catch (error) {\n",
    "        alert(`Error: ${error.message}`);\n",
    "    }\n",
    "}\n"
   ]
  },
  {
   "cell_type": "markdown",
   "metadata": {},
   "source": [
    "## A call to delete a recipe\n",
    "This line calls the deleteRecipe() function when the delete recipe button is clicked. The deleteRecipe() function receives the id of the recipe when it is called."
   ]
  },
  {
   "cell_type": "code",
   "execution_count": null,
   "metadata": {
    "vscode": {
     "languageId": "javascript"
    }
   },
   "outputs": [],
   "source": [
    "async function viewStoredRecipes() {\n",
    "    const response = await fetch(`${pythonURI}/get_recipes`);\n",
    "    const recipes = await response.json();\n",
    "\n",
    "    recipes.forEach(recipe => {\n",
    "        const recipeDiv = document.createElement('div');\n",
    "        recipeDiv.innerHTML = `\n",
    "            <h3>${recipe.dish}</h3>\n",
    "            <button onclick='deleteRecipe(${recipe.id})'>Delete Recipe</button>\n",
    "        `;\n",
    "        document.getElementById('recipe-data').appendChild(recipeDiv);\n",
    "    });\n",
    "}\n"
   ]
  },
  {
   "cell_type": "markdown",
   "metadata": {},
   "source": [
    "# Things used during development\n",
    "\n",
    "## Feedback: \n",
    "<li> Requesting feedback from my scrum master on frontend </li>\n",
    "<li> Took N@TM feedback to improve UI organization\n",
    "Testing: \n",
    "<li> Postman testing api endpoints </li>\n",
    "<li> Integration testing: making sure my frontend javascript and backend api are connected </li>\n",
    "Reflection: \n",
    "<li> I could have made more attempts to make the code more clean. This was because my instructions and ingredients were all in one long line.</li>"
   ]
  }
 ],
 "metadata": {
  "language_info": {
   "name": "python"
  }
 },
 "nbformat": 4,
 "nbformat_minor": 2
}
