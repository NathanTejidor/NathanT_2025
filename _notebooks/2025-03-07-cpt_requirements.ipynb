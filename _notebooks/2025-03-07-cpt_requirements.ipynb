{
 "cells": [
  {
   "cell_type": "markdown",
   "metadata": {},
   "source": [
    "# CPT/PPR"
   ]
  },
  {
   "cell_type": "markdown",
   "metadata": {},
   "source": [
    "## Sequencing \n",
    "1. Retrieve JSON data from the request.\n",
    "2. Check if the data is missing.\n",
    "3. Attempt to create a new recipe object and save it to the database.\n",
    "4. Return a success message if everything goes well, or an error message if an exception occurs.\n",
    "\n",
    " <img src=\"{{site.baseurl}}/images/sequencingtri2.png\" alt=\"sequencing\"/>"
   ]
  },
  {
   "cell_type": "markdown",
   "metadata": {},
   "source": [
    "## Iteration \n",
    "In this image, the code iterates over the recipes dictionary to retrieve a specific recipe based on the provided name.\n",
    "\n",
    " <img src=\"{{site.baseurl}}/images/dictionaryexample.png\" alt=\"iteration and dictionary\"/>"
   ]
  },
  {
   "cell_type": "markdown",
   "metadata": {},
   "source": [
    "## Selection\n",
    "For the CPT Requirement of selection I have error messages that will show up on the page and in the console. \n",
    "\n",
    "In this code it checks two conditions for if they are met or not \n",
    "<li>If the data is missing.</li>\n",
    "and\n",
    "<li>If the recipe object is not found.\n",
    "</li>"
   ]
  },
  {
   "cell_type": "code",
   "execution_count": null,
   "metadata": {},
   "outputs": [],
   "source": [
    "if not data:\n",
    "    return {\"message\": \"No input data provided\"}, 400"
   ]
  },
  {
   "cell_type": "markdown",
   "metadata": {},
   "source": [
    "PPR Feature Video\n",
    "🔗 https://drive.google.com/file/d/1qlEuUKsqekmNCNdWjbSFaD4K7B1-9M4_/view?usp=sharing "
   ]
  },
  {
   "cell_type": "markdown",
   "metadata": {},
   "source": [
    "## A List being Created\n",
    "initializes an empty object to store selected recipes by user interaction."
   ]
  },
  {
   "cell_type": "code",
   "execution_count": null,
   "metadata": {
    "vscode": {
     "languageId": "javascript"
    }
   },
   "outputs": [],
   "source": [
    "let selectedRecipes = {};"
   ]
  },
  {
   "cell_type": "markdown",
   "metadata": {},
   "source": [
    "## A list being processed\n",
    "This segment of JavaScript iterates through each .recipe-button element, attaching an event listener that captures the recipe name when clicked."
   ]
  },
  {
   "cell_type": "code",
   "execution_count": null,
   "metadata": {
    "vscode": {
     "languageId": "javascript"
    }
   },
   "outputs": [],
   "source": [
    "document.querySelectorAll(\".recipe-button\").forEach((button) => {\n",
    "    button.addEventListener(\"click\", function () {\n",
    "      let recipeName = button.dataset.recipe;\n",
    "    });\n",
    "  });\n",
    "  "
   ]
  },
  {
   "cell_type": "markdown",
   "metadata": {},
   "source": [
    "## Function\n",
    "This creates a delete method to delete a recipe from the backend."
   ]
  },
  {
   "cell_type": "code",
   "execution_count": null,
   "metadata": {
    "vscode": {
     "languageId": "javascript"
    }
   },
   "outputs": [],
   "source": [
    "const deleteRecipe = async (recipeId) => {\n",
    "    try {\n",
    "        let res = await fetch(`${pythonURI}/api/delete_recipe/${recipeId}`, { method: \"DELETE\" });\n",
    "        alert((await res.json()).message);\n",
    "        viewStoredRecipes();\n",
    "    } catch (err) {\n",
    "        alert(`Error: ${err.message}`);\n",
    "    }\n",
    "};"
   ]
  },
  {
   "cell_type": "markdown",
   "metadata": {},
   "source": [
    "## A call to delete a recipe\n",
    "This removes the recipe by it's id."
   ]
  },
  {
   "cell_type": "code",
   "execution_count": null,
   "metadata": {
    "vscode": {
     "languageId": "javascript"
    }
   },
   "outputs": [],
   "source": [
    "deleteRecipe(1);\n"
   ]
  },
  {
   "cell_type": "markdown",
   "metadata": {},
   "source": [
    "# Things used during development\n",
    "\n",
    "## Feedback: \n",
    "<li> Requesting feedback from my scrum master on frontend </li>\n",
    "<li> Took N@TM feedback to improve UI organization\n",
    "<br>\n",
    "\n",
    "## Testing: \n",
    "<li> Postman testing api endpoints </li>\n",
    "<li> Integration testing: making sure my frontend javascript and backend api are connected </li>\n",
    "<br>\n",
    "\n",
    "## Reflection: \n",
    "<li> I could have made more attempts to make the code more clean. This was because my instructions and ingredients were all in one long line.</li>"
   ]
  }
 ],
 "metadata": {
  "language_info": {
   "name": "python"
  }
 },
 "nbformat": 4,
 "nbformat_minor": 2
}
