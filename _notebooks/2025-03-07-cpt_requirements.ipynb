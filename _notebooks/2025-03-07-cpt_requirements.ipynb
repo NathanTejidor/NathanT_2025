{
 "cells": [
  {
   "cell_type": "markdown",
   "metadata": {},
   "source": [
    "# CPT Requirements"
   ]
  },
  {
   "cell_type": "markdown",
   "metadata": {},
   "source": [
    "## Sequencing \n",
    "1. Retrieve JSON data from the request.\n",
    "2. Check if the data is missing.\n",
    "3. Attempt to create a new recipe object and save it to the database.\n",
    "4. Return a success message if everything goes well, or an error message if an exception occurs.\n",
    "\n",
    " <img src=\"{{site.baseurl}}/images/sequencingtri2.png\" alt=\"sequencing\"/>"
   ]
  },
  {
   "cell_type": "markdown",
   "metadata": {},
   "source": [
    "## Iteration \n",
    "In this image, the code iterates over the recipes dictionary to retrieve a specific recipe based on the provided name.\n",
    "\n",
    " <img src=\"{{site.baseurl}}/images/dictionaryexample.png\" alt=\"iteration and dictionary\"/>"
   ]
  },
  {
   "cell_type": "markdown",
   "metadata": {},
   "source": [
    "## Selection\n",
    "For the CPT Requirement of selection I have error messages that will show up on the page and in the console. \n",
    "\n",
    "In this code it checks two conditions for if they are met or not \n",
    "<li>If the data is missing.</li>\n",
    "and\n",
    "<li>If the recipe object is not found.\n",
    "</li>"
   ]
  },
  {
   "cell_type": "code",
   "execution_count": null,
   "metadata": {},
   "outputs": [],
   "source": [
    "if not data:\n",
    "    return {\"message\": \"No input data provided\"}, 400"
   ]
  },
  {
   "cell_type": "markdown",
   "metadata": {},
   "source": [
    "PPR Feature Video\n",
    "🔗 [Feature Video Link] https://drive.google.com/file/d/1qlEuUKsqekmNCNdWjbSFaD4K7B1-9M4_/view?usp=sharing "
   ]
  }
 ],
 "metadata": {
  "language_info": {
   "name": "python"
  }
 },
 "nbformat": 4,
 "nbformat_minor": 2
}
