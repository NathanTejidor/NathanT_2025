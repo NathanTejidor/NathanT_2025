{
 "cells": [
  {
   "cell_type": "raw",
   "metadata": {
    "vscode": {
     "languageId": "raw"
    }
   },
   "source": [
    "---\n",
    "layout: post\n",
    "title: Night at the Museum Final\n",
    "type: issues\n",
    "comments: true\n",
    "permalink: /n@tm-blog/\n",
    "---"
   ]
  },
  {
   "cell_type": "markdown",
   "metadata": {},
   "source": [
    "# Night at the Museum - Personal Reflection\n",
    "\n",
    "<img src=\"{{ site.baseurl }}/images/comment.png\"/>\n",
    "<img src=\"{{ site.baseurl }}/images/bizcard.png\"/>\n",
    "\n",
    "## Project Showcase Experience\n",
    "\n",
    "The **Night at the Museum** event gave me the opportunity to present our fire and earthquake prediction platform to many peers.\n",
    "\n",
    "---\n",
    "\n",
    "## My Role and Contributions\n",
    "\n",
    "### Technical Demonstration and Organization\n",
    "* **Simplifying complex algorithms** into accessible explanations for different audiences\n",
    "* **Setting up live demonstrations** of the earthquake magnitude prediction system\n",
    "* **Testing our demo environment** to ensure reliable real-time performance\n",
    "* **Coordinating presentation flow** with my teammates having 5 screens be displayed (demo, qr code, business card qr code, and 2 other demos so we could show as many people our individual features within the 30 minutes we had.)\n",
    "\n",
    "---\n",
    "\n",
    "## Skills Developed\n",
    "\n",
    "### Technical Communication\n",
    "* **Adapting explanations** based on each visitor's technical background\n",
    "* **Using visual demonstrations** to illustrate algorithms\n",
    "* **Connecting technical features** to practical safety applications\n",
    "\n",
    "### Professional Growth\n",
    "* **Confidence in presenting technical work** to diverse audiences\n",
    "* **Better understanding of my own project** through teaching it to others\n",
    "* **Collaborative presentation skills** working effectively as a team\n",
    "\n",
    "---\n",
    "\n",
    "## Key Takeaways\n",
    "\n",
    "The experience reinforced that effective technical communication requires both **solid understanding of the material** and the ability to **adapt explanations for different listeners**. I was suprised to see that some of the people were comparing Pyre to similar apps and softwares that serve a similar purpose.\n",
    "\n",
    "This presentation experience has given me more confidence in my ability to **communicate technical work effectively** and represent collaborative projects in professional settings - skills that will be valuable for future technical interviews, academic and other presentations."
   ]
  }
 ],
 "metadata": {
  "language_info": {
   "name": "python"
  }
 },
 "nbformat": 4,
 "nbformat_minor": 2
}
