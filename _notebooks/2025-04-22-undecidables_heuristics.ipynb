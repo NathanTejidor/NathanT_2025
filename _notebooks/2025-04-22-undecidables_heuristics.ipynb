{
 "cells": [
  {
   "cell_type": "code",
   "execution_count": 1,
   "metadata": {},
   "outputs": [
    {
     "name": "stdout",
     "output_type": "stream",
     "text": [
      "Path: [(0, 0), (4, 4), (3, 5), (2, 8), (6, 7), (0, 0)]\n",
      "Total Distance: 23.575995554944402\n"
     ]
    }
   ],
   "source": [
    "import math\n",
    "from random import shuffle\n",
    "\n",
    "def d(u, v):\n",
    "    return math.sqrt((u[0] - v[0]) ** 2 + (u[1] - v[1]) ** 2)\n",
    "\n",
    "def distant_neighbor(cities):\n",
    "    current, path, unvisited = cities[0], [], cities[:]\n",
    "    path.append(current)\n",
    "    unvisited.remove(current)\n",
    "    dist = 0\n",
    "\n",
    "    while unvisited:\n",
    "        nearest, min_dist = None, float('inf')\n",
    "        for c in unvisited:\n",
    "            dist_to_c = d(current, c)\n",
    "            if dist_to_c < min_dist:\n",
    "                nearest, min_dist = c, dist_to_c\n",
    "        path.append(nearest)\n",
    "        dist += min_dist\n",
    "        current = nearest\n",
    "        unvisited.remove(nearest)\n",
    "    \n",
    "    dist += d(current, cities[0])\n",
    "    path.append(cities[0])\n",
    "    \n",
    "    return path, dist\n",
    "\n",
    "coords = [(0, 0), (3, 5), (4, 4), (2, 8), (6, 7)]\n",
    "\n",
    "tour, total_dist = distant_neighbor(coords)\n",
    "\n",
    "print(f\"Path: {tour}\\nTotal Distance: {total_dist}\")\n"
   ]
  }
 ],
 "metadata": {
  "kernelspec": {
   "display_name": "venv",
   "language": "python",
   "name": "python3"
  },
  "language_info": {
   "codemirror_mode": {
    "name": "ipython",
    "version": 3
   },
   "file_extension": ".py",
   "mimetype": "text/x-python",
   "name": "python",
   "nbconvert_exporter": "python",
   "pygments_lexer": "ipython3",
   "version": "3.9.6"
  }
 },
 "nbformat": 4,
 "nbformat_minor": 2
}
