{
 "cells": [
  {
   "cell_type": "raw",
   "metadata": {
    "vscode": {
     "languageId": "raw"
    }
   },
   "source": [
    "---\n",
    "layout: post\n",
    "title: MCQ Corrections\n",
    "permalink: /posts/mcq-corrections/\n",
    "---"
   ]
  },
  {
   "cell_type": "markdown",
   "metadata": {},
   "source": [
    "# Question 14\n",
    "<img src=\"{{site.baseurl}}//images/question14.png\">\n",
    "Initial Understanding: I thought that both codes displayed a different number of values. I assumed that the first code showed values 1-10 and the second, 2-10, leading me to come to the conclusion that they had different counts. \n",
    "\n",
    "Correction: Even though both codes start at different values, they still show the same number of values. Only, the first code runs from 1-10 and the second from 2-11. Both are covering the same total count, they just start and end at different numbers. Showing that I should have picked C"
   ]
  },
  {
   "cell_type": "markdown",
   "metadata": {},
   "source": [
    "# Question 18\n",
    "<img src=\"{{site.baseurl}}//images/question18.png\">\n",
    "Initial Understanding: I made a mistake of not realizing that the question was for the least likely strategy when answering this question.\n",
    "\n",
    "Corrections: It should be C because when you remove as many details as possible from the model in order that calculations for it can happen faster, it is least likely to improve the ability to predict the accuracy. This will simplify the model too much and will get rid of a lot of the elements and relationships that have an affect on the outcome. Thus making the prediction less reliable.\n"
   ]
  },
  {
   "cell_type": "markdown",
   "metadata": {},
   "source": [
    "# Question 24\n",
    "<img src=\"{{site.baseurl}}//images/question24.png\">\n",
    "Initial Understanding: I thought that byte pair encoding was lossy. \n",
    "\n",
    "Corrections: However this was not the case because the ability to fully reconstruct the original string from the encoded one shows that it is lossless."
   ]
  },
  {
   "cell_type": "markdown",
   "metadata": {},
   "source": [
    "# Question 33\n",
    "<img src=\"{{site.baseurl}}//images/question33.png\">\n",
    "Initial Understanding: I thought that both conditions in the flowchart needed to be true because the second one of bedrooms equalling 3 was only if the first floor > 10 was true. This made me think that this was an and relationship.\n",
    "\n",
    "Corrections: Since the operator was OR instead of AND, it would mean include would be true if either one of the conditions were also true."
   ]
  },
  {
   "cell_type": "markdown",
   "metadata": {},
   "source": [
    "# Question 43\n",
    "<img src=\"{{site.baseurl}}//images/question43.png\">\n",
    "Initial Understanding: I guessed that since the items and number of steps did not have a linear relationship then the algorithm wouldn't run in reasonable time.\n",
    "\n",
    "Corrections: Since the number of steps is polynomial it DOES mean that it would run in reasonable time."
   ]
  },
  {
   "cell_type": "markdown",
   "metadata": {},
   "source": [
    "# Question 45\n",
    "<img src=\"{{site.baseurl}}//images/question45.png\">\n",
    "Initial Understanding: I completely guessed on this one \n",
    "\n",
    "Corrections: The option I chose only evaluates false when P and Q are different values. However a NAND gate should only be false when both P and Q are true."
   ]
  },
  {
   "cell_type": "markdown",
   "metadata": {},
   "source": [
    "# Question 46\n",
    "<img src=\"{{site.baseurl}}//images/question46.png\">\n",
    "Initial Understanding: I also guessed on this one\n",
    "\n",
    "Corrections: It is impossible to solve undecidable problems for all programs and inputs"
   ]
  },
  {
   "cell_type": "markdown",
   "metadata": {},
   "source": [
    "# Question 55\n",
    "<img src=\"{{site.baseurl}}//images/question55.png\">\n",
    "Initial Understanding: I thought that the code was working as intended.\n",
    "\n",
    "Corrections: The code was not working as intended and no matter the input the procedure would return false."
   ]
  },
  {
   "cell_type": "markdown",
   "metadata": {},
   "source": [
    "# Question 56\n",
    "<img src=\"{{site.baseurl}}//images/question56.png\">\n",
    "Initial Understanding: I thought that the procedure counted even integers\n",
    "\n",
    "Corrections: The code actually displayed odd integers."
   ]
  },
  {
   "cell_type": "markdown",
   "metadata": {},
   "source": [
    "# Question 57\n",
    "<img src=\"{{site.baseurl}}//images/question57.png\">\n",
    "Initial Understanding: I thought that the letters ppy would be in 4 , 2. \n",
    "\n",
    "Corrections: The letters ppy were actually 3, 3. With the comination of the Ha from harp then the string would return Happy."
   ]
  },
  {
   "cell_type": "markdown",
   "metadata": {},
   "source": [
    "# Question 58\n",
    "<img src=\"{{site.baseurl}}//images/question58.png\">\n",
    "Initial Mistake: I was unfamiliar with the word crowdsourcing. \n",
    "\n",
    "Corrections: Now I know what crowdsourcing is and it can help but there are some problems that cannot be resolved in reasonable time."
   ]
  },
  {
   "cell_type": "markdown",
   "metadata": {},
   "source": [
    "# Question 60\n",
    "<img src=\"{{site.baseurl}}//images/question60.png\">\n",
    "Initial Mistake: I thought that all the docuementation on one line would make the code easier to read.\n",
    "\n",
    "Corrections:  The mistake that I made was thinking that placing all the docuementation on a single line helps programmers to read code more clearly. In fact it may do the opposite. However, replacing each instance of repeated code with a call to a procedure would allow for the code to be less complex."
   ]
  },
  {
   "cell_type": "markdown",
   "metadata": {},
   "source": [
    "# Question 63\n",
    "<img src=\"{{site.baseurl}}//images/question63.png\">\n",
    "Mistake: My mistake was that I didn't realize that the count should be before a loop. Since this wasn't the case and I chose to remove line 1, it would not start counting at 1.\n",
    "\n",
    "Corrections: The count needed to be set to 0 before the loop instead of after. This way it would start the count at 1 rather than a different number."
   ]
  },
  {
   "cell_type": "markdown",
   "metadata": {},
   "source": [
    "# Question 64\n",
    "<img src=\"{{site.baseurl}}//images/question64.png\">\n",
    "Mistake: Cloud files allow people to share files easily, making room for those who want to distrubute copyright materials illegally.\n",
    "\n",
    "Corrections: Cloud computing has helped enhanced collaboration, because of the ability to share files and tools so easily. The ability to collaborate even when far away has positively affected internet communication."
   ]
  },
  {
   "cell_type": "markdown",
   "metadata": {},
   "source": [
    "# Question 66\n",
    "<img src=\"{{site.baseurl}}//images/question66.png\">\n",
    "\n",
    "Initial Mistake: I had forgotten that I had to click on two answers instead of just one of them\n",
    "\n",
    "Corrections: C will also not work. This is because the return of C would be 20. However since there is a 10, the code would not be returning the lowest number value."
   ]
  },
  {
   "cell_type": "markdown",
   "metadata": {},
   "source": [
    "# Score\n",
    "<img src=\"{{site.baseurl}}//images/mcq_score.png\">\n",
    "Overall I am pretty happyy that I made it into the green zone for the MCQ. I initially thought that I would not be able to understand and do well on it. However I surprised myself with my score, Some of the questions I was unable to answer, bu the majority of the questions I was able to get right.\n"
   ]
  }
 ],
 "metadata": {
  "language_info": {
   "name": "python"
  }
 },
 "nbformat": 4,
 "nbformat_minor": 2
}
