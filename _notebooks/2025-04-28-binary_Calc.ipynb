{
 "cells": [
  {
   "cell_type": "raw",
   "metadata": {
    "vscode": {
     "languageId": "raw"
    }
   },
   "source": [
    "---\n",
    "layout: post\n",
    "title: Binary Calculator\n",
    "permalink: /posts/binarycalculator/\n",
    "---"
   ]
  },
  {
   "cell_type": "code",
   "execution_count": null,
   "metadata": {
    "vscode": {
     "languageId": "html"
    }
   },
   "outputs": [],
   "source": [
    "\n",
    "    <title>Binary to Hexadecimal Converter</title>\n",
    "    <style>\n",
    "        body {\n",
    "            font-family: Arial, sans-serif;\n",
    "            margin: 20px;\n",
    "        }\n",
    "        .container {\n",
    "            max-width: 600px;\n",
    "            margin: auto;\n",
    "        }\n",
    "        input, button {\n",
    "            padding: 10px;\n",
    "            margin: 10px 0;\n",
    "            width: 100%;\n",
    "        }\n",
    "        table {\n",
    "            width: 100%;\n",
    "            border-collapse: collapse;\n",
    "            margin-top: 20px;\n",
    "        }\n",
    "        table, th, td {\n",
    "            border: 1px solid black;\n",
    "        }\n",
    "        th, td {\n",
    "            padding: 10px;\n",
    "            text-align: left;\n",
    "        }\n",
    "    </style>\n",
    "</head>\n",
    "<body>\n",
    "    <div class=\"container\">\n",
    "        <h1>Binary to Hexadecimal Converter</h1>\n",
    "        <input type=\"text\" id=\"binaryInput\" placeholder=\"Enter binary number\" />\n",
    "        <button onclick=\"convertBinary()\">Convert</button>\n",
    "        <h2>Result</h2>\n",
    "        <p id=\"result\"></p>\n",
    "        <h2>Conversion History</h2>\n",
    "        <table>\n",
    "            <thead>\n",
    "                <tr>\n",
    "                    <th>Binary</th>\n",
    "                    <th>Hexadecimal</th>\n",
    "                </tr>\n",
    "            </thead>\n",
    "            <tbody id=\"history\"></tbody>\n",
    "        </table>\n",
    "    </div>\n",
    "    <script>\n",
    "        function convertBinary() {\n",
    "            const binaryInput = document.getElementById('binaryInput').value;\n",
    "            let resultElement = document.getElementById('result');\n",
    "\n",
    "            if (!/^[01]+$/.test(binaryInput)) {\n",
    "                resultElement.textContent = \"Invalid binary input. Please enter a binary number.\";\n",
    "                return;\n",
    "            }\n",
    "\n",
    "            const decimalValue = parseInt(binaryInput, 2);\n",
    "            const hexadecimalValue = decimalValue.toString(16).toUpperCase();\n",
    "            resultElement.textContent = `Hexadecimal: ${hexadecimalValue}`;\n",
    "\n",
    "            saveToHistory(binaryInput, hexadecimalValue);\n",
    "            loadHistory();\n",
    "        }\n",
    "\n",
    "        function saveToHistory(binary, hexadecimal) {\n",
    "            let history = JSON.parse(localStorage.getItem('conversionHistory')) || [];\n",
    "            history.push({ binary, hexadecimal });\n",
    "            localStorage.setItem('conversionHistory', JSON.stringify(history));\n",
    "        }\n",
    "\n",
    "        function loadHistory() {\n",
    "            const historyTable = document.getElementById('history');\n",
    "            const history = JSON.parse(localStorage.getItem('conversionHistory')) || [];\n",
    "            historyTable.innerHTML = history.map(entry => `\n",
    "                <tr>\n",
    "                    <td>${entry.binary}</td>\n",
    "                    <td>${entry.hexadecimal}</td>\n",
    "                </tr>\n",
    "            `).join('');\n",
    "        }\n",
    "\n",
    "        loadHistory();\n",
    "    </script>\n",
    "</body>"
   ]
  }
 ],
 "metadata": {
  "language_info": {
   "name": "python"
  }
 },
 "nbformat": 4,
 "nbformat_minor": 2
}
