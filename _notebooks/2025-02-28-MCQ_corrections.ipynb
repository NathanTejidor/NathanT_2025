{
 "cells": [
  {
   "cell_type": "raw",
   "metadata": {
    "vscode": {
     "languageId": "raw"
    }
   },
   "source": [
    "---\n",
    "layout: post\n",
    "title: MCQ reflection\n",
    "permalink: /posts/mcq-reflection/\n",
    "---"
   ]
  },
  {
   "cell_type": "markdown",
   "metadata": {},
   "source": [
    "# MCQ Revisions"
   ]
  },
  {
   "cell_type": "markdown",
   "metadata": {},
   "source": [
    "\n",
    "# Q5 \n",
    "Revisions: I was incorrect. Given these inputs, the OR gate will output **false**, while the first AND gate will output **true**. Since only one input to the second AND gate is **true**, the final output of the circuit will be **false**."
   ]
  },
  {
   "cell_type": "markdown",
   "metadata": {},
   "source": [
    "# Q9 \n",
    "Revisions: Incorrect, Creative Commons license enables individuals to publish content while defining how it can be legally used or shared. However, it does not enhance the security of private data. Public-key encryption was the right answer."
   ]
  },
  {
   "cell_type": "markdown",
   "metadata": {},
   "source": [
    "# Q11 \n",
    "Revisions: I had gotten this one wrong since I don't have much knowledge of binary."
   ]
  },
  {
   "cell_type": "markdown",
   "metadata": {},
   "source": [
    "# Q11 \n",
    "Revisions: This one I also got incorrect due to lack of knowledge of binary."
   ]
  },
  {
   "cell_type": "markdown",
   "metadata": {},
   "source": [
    "# Q23 \n",
    "Revisions: Incorrect. This expression sets **available** to **true** if **weekday** is **true** or **miles** is less than 20, but the flowchart requires both conditions to be **true**.  \n",
    "\n",
    "Correct. The flowchart sets **available** to **true** only when **weekday** is **true** and **miles** is less than 20, matching the code's functionality."
   ]
  },
  {
   "cell_type": "markdown",
   "metadata": {},
   "source": [
    "# Q31\n",
    "Revisions: Incorrect. Sharing the software, even with a few peers, violates copyright.  \n",
    "\n",
    "Correct. To share the application legally, the student must get permission from the copyright owner."
   ]
  },
  {
   "cell_type": "markdown",
   "metadata": {},
   "source": [
    "# Q32\n",
    "Revisions: Incorrect. This code subtracts the lowest score from the sum but incorrectly divides by the total number of scores instead of one less.  \n",
    "\n",
    "Correct. The code correctly drops the lowest score by subtracting it from the sum and then divides by one less than the total number of scores to find the average."
   ]
  },
  {
   "cell_type": "markdown",
   "metadata": {},
   "source": [
    "# Q33\n",
    "Incorrect. This can be determined by comparing each student’s original average to their final grade after dropping the lowest score.  \n",
    "\n",
    "Correct. Without the individual assignment scores, the administrator can only identify the lowest score, not the others."
   ]
  },
  {
   "cell_type": "markdown",
   "metadata": {},
   "source": [
    "# Q38\n",
    "Incorrect. IPv6 addresses are longer than IPv4, but address length does not directly impact routing speed.  \n",
    "\n",
    "Correct. IPv6 supports more IP addresses than IPv4, enabling more devices to connect."
   ]
  },
  {
   "cell_type": "markdown",
   "metadata": {},
   "source": [
    "# Q41\n",
    "Incorrect. Statement III is correct. It removes the first 11 characters (the date tag) using **TrimLeft**, then removes the last 4 characters (the file extension) using **TrimRight**, leaving only the description."
   ]
  },
  {
   "cell_type": "markdown",
   "metadata": {},
   "source": [
    "# Q47\n",
    "Incorrect. A binary search works on any sorted list, even if it contains duplicates.  \n",
    "\n",
    "Correct. A binary search requires the list to be sorted to function correctly."
   ]
  },
  {
   "cell_type": "markdown",
   "metadata": {},
   "source": [
    "# Q54\n",
    "Incorrect. The code inserts even elements from **oldList** at the beginning of **newList**, reversing their order.  \n",
    "\n",
    "Correct. The code scans **originalList** left to right, inserting even elements at the start of **newList**, reversing their order. Changing line 5 to **APPEND(newList, number)** preserves their original order."
   ]
  },
  {
   "cell_type": "markdown",
   "metadata": {},
   "source": [
    "# Q55\n",
    "Incorrect. Writing **1** at the top and height at the bottom results in the final card showing the number of people on top and the sum of heights on the bottom. Dividing gives the inverse of the average instead of the average.  \n",
    "\n",
    "Correct. Writing the height at the top and **1** at the bottom ensures the final card shows the sum of heights on top and the number of people on the bottom. Dividing gives the average height."
   ]
  },
  {
   "cell_type": "markdown",
   "metadata": {},
   "source": [
    "# Q56\n",
    "Incorrect. Version I calls **GetPrediction** once per element in **idList**, while Version II calls it twice per element plus one extra time, making it take over a minute longer.  \n",
    "\n",
    "Correct. Version I calls **GetPrediction** four times, taking about 4 minutes. Version II calls it nine times, requiring about 9 minutes to execute."
   ]
  },
  {
   "cell_type": "markdown",
   "metadata": {},
   "source": [
    "# Q65\n",
    "Incorrect. The code first stores **\"jack\"** in **animal**, then concatenates **\"jack\"** and **\"a\"** to get **\"jacka\"**, and finally prepends **\"lope\"** to store **\"lopejacka\"** in **animal**.  \n",
    "\n",
    "Correct. The code first stores **\"lope\"** in **animal**, then concatenates **\"a\"** and **\"lope\"** to get **\"alope\"**, and finally prepends **\"jack\"** to store **\"jackalope\"** in **animal**."
   ]
  },
  {
   "cell_type": "markdown",
   "metadata": {},
   "source": [
    "# Q66\n",
    "**Incorrect.** This line should not be removed. The variable **count** should increment by 1 when **currentNum** is a perfect number, so it must be inside the **IF** statement.  \n",
    "\n",
    "**Correct.** This line should be removed. **count** should only increase when **currentNum** is a perfect number, meaning it should be inside the **IF** statement.  \n",
    "\n",
    "**Correct.** This line should be removed. **currentNum** should be checked for every integer from **start** to **end**, so it should only be incremented inside the loop but outside the **IF** statement."
   ]
  }
 ],
 "metadata": {
  "language_info": {
   "name": "python"
  }
 },
 "nbformat": 4,
 "nbformat_minor": 2
}
