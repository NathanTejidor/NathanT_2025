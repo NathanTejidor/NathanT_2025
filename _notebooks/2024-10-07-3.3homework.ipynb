{
 "cells": [
  {
   "cell_type": "markdown",
   "metadata": {},
   "source": [
    "---\n",
    "layout: post\n",
    "title: 3.3 Homework\n",
    "permalink: /posts/3.3-homework/\n",
    "---"
   ]
  },
  {
   "cell_type": "code",
   "execution_count": null,
   "metadata": {
    "vscode": {
     "languageId": "javascript"
    }
   },
   "outputs": [],
   "source": [
    "function calc( num1 = 7 , num2 = 7) {\n",
    "    console.log(num1 + num2)\n",
    "    console.log(num1 - num2)\n",
    "    console.log(num1 * num2)\n",
    "    console.log(num1 / num2)\n",
    "    console.log(num1 ** num2)\n",
    "}\n"
   ]
  },
  {
   "cell_type": "code",
   "execution_count": null,
   "metadata": {},
   "outputs": [],
   "source": [
    "def calc(num1=7 , num2=7):\n",
    "    print(num1 + num2) \n",
    "    print(num1 - num2) \n",
    "    print(num1 / num2) \n",
    "    print(num1 * num2) \n",
    "    print(num1 ** num2)\n",
    "\n",
    "calc()\n"
   ]
  }
 ],
 "metadata": {
  "language_info": {
   "name": "python"
  }
 },
 "nbformat": 4,
 "nbformat_minor": 2
}
