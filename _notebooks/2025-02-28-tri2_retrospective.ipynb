{
 "cells": [
  {
   "cell_type": "raw",
   "metadata": {
    "vscode": {
     "languageId": "raw"
    }
   },
   "source": [
    "---\n",
    "layout: post\n",
    "title: Retrospective\n",
    "permalink: /posts/Tri 2 Retrospective/\n",
    "---"
   ]
  },
  {
   "cell_type": "markdown",
   "metadata": {
    "vscode": {
     "languageId": "raw"
    }
   },
   "source": [
    "# My 5 Accomplishments over the 12 weeks\n",
    "\n",
    "https://github.com/users/lalita1809/projects/1/views/1?pane=issue&itemId=99228346&issue=lalita1809%7Cflocker_frontend_period4%7C42 "
   ]
  },
  {
   "cell_type": "markdown",
   "metadata": {},
   "source": [
    "# Project Demo\n",
    "https://lalita1809.github.io/flocker_frontend_period4/ \n",
    "CPT requirements and highlights"
   ]
  },
  {
   "cell_type": "markdown",
   "metadata": {},
   "source": [
    "# Feedback from N@TM:\n",
    "After a thorough review of the feedback that was given to us during the N@TM, many of them say that our website is very cool, interesting, and some even say that they will use the random recipes feature in order to plan their meals for the week. The only fix that someone reccomended was to have the UI a bit more organized. Which I can see where that is coming from as one thing that was bugging me a bit was that on some of the recipes, when u click to edit them you still have to scroll down to edit them which could be confusing if they forget to scroll.\n",
    "(add image of UI fedback)"
   ]
  },
  {
   "cell_type": "markdown",
   "metadata": {},
   "source": [
    "# Project Feature Blog\n",
    "\n",
    "http://127.0.0.1:4100/NathanT_2025/posts/sprint5/"
   ]
  },
  {
   "cell_type": "markdown",
   "metadata": {},
   "source": [
    "# MCQ Score\n",
    "I am overall pretty happy with my MCQ score as I still made it into the green and I scored decently similar to my last MCQ from tri 1. With the new topics , I was worried that I would struggle, but I guess I was able to pick up on them decently well. I am still a bit worried about my weak areas, but I will just have to keep practicing and reviewing to improve."
   ]
  },
  {
   "cell_type": "markdown",
   "metadata": {},
   "source": [
    "# What I saw at N@TM \n",
    "Neptune: A website very similar to Saturn, the UI was amazing with it's transition animation when switching between pages. The website was very well designed and had a lot of features. One of my favorites being the \n",
    "\n",
    "Study Buddy: The study buddy website is a website that allows users to make a working schedule for events they wish to keep track of and the mini quizzes that people can take are also a great feature. The website is very user friendly and easy to navigate.\n",
    "\n",
    "Legendary Motorsport: The website was basically a car social media website where users could share their interests in cars, create a digital portfolio which was a garage that you own or want to have in the future. My favorite feature was that people could share tips on specific cars that other people may need.\n",
    "\n",
    "Stocks Viewer: The website was a stock market viewer where users could view the current stock prices and also view the history with a price chart on those stocks. The website was very well designed and had a lot of features. One of my favorite features from it was to test buying stocks, they allowed for you to buy and sell fake stocks that get updated as if their real stocks in order to practice investments if you are not ready to invest in real stocks."
   ]
  },
  {
   "cell_type": "markdown",
   "metadata": {},
   "source": [
    "# My next step in CompSci\n",
    "\n",
    "The next step in my CompSci journey is to take the next course, I am also interested in learning more about implementing things like websites made using secure e-commerce platforms, and how people implement SSL certificates in those webistes."
   ]
  },
  {
   "cell_type": "markdown",
   "metadata": {},
   "source": [
    "# My Strengths and Weaknesses\n",
    "\n",
    "<li> As seen from my MCQ some of my weaknesses are </li>\n",
    "<li> My MCQ shows that my strengths are </li>\n",
    "<li> From the project one of my strengths was being able to create the many api's for all the recipes that we use on our webpage. </li>\n",
    "<li> One of my weaknesses from the projects was debugging, as I had many issues with it and had to ask for help many times from both peers and the teacher. </li>"
   ]
  },
  {
   "cell_type": "markdown",
   "metadata": {},
   "source": [
    "# Summary/Self Reflection: \n",
    "Overall I feel that I have grown a lot during this course, and I have gained a lot of knowledge and skills. I have learned how to use various tools such as postman in order to assist me in debugging and testing my code. However for the previous assignments, mainly the reviews I feel that I could have managed my time and worked with my team more than being more of a soloist which eventually changed along the way of the trimester, ultimately allowing both me and my group to get results. With that in mind I feel that for most topics I should be at a .9-.94 range."
   ]
  }
 ],
 "metadata": {
  "language_info": {
   "name": "python"
  }
 },
 "nbformat": 4,
 "nbformat_minor": 2
}
