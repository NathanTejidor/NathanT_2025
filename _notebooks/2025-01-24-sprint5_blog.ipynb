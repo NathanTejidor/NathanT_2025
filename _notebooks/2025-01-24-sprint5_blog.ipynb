{
 "cells": [
  {
   "cell_type": "raw",
   "metadata": {
    "vscode": {
     "languageId": "raw"
    }
   },
   "source": [
    "---\n",
    "layout: post\n",
    "title: Sprint 5 \n",
    "permalink: /posts/sprint5/\n",
    "---"
   ]
  },
  {
   "cell_type": "markdown",
   "metadata": {},
   "source": [
    "# Overview\n",
    "My sprint 5 feature is to post the static content of the website on the backend. This feature is a part of the sprint 5 goals. The feature is to be implemented in the backend using flask and flask RESTful. I created 5 files for the 5 different countries. Each file contains the static content of the website for that country. The five countries are : Italian, Chinese, Japanese, Mexican, and Thai. \n",
    "The static data is the name of the cuisine, the ingredients, \n",
    "instructions, and time it takes to cook the dish. As well as create a function to store recipes to easily open later.\n",
    "\n",
    "# Backend\n",
    "\n",
    "Heres an example of the data for a chinese cuisine Kung Pao Chicken:\n",
    "\n",
    "\n",
    "\n",
    "\n",
    "                        "
   ]
  },
  {
   "cell_type": "code",
   "execution_count": null,
   "metadata": {},
   "outputs": [],
   "source": [
    "\"Kung Pao Chicken\": {\n",
    "                \"dish\": \"Kung Pao Chicken\",\n",
    "                \"time\": 30,\n",
    "                \"ingredients\": \"Chicken breast (500g), Dried red chilies (10-12)  Peanuts (50g),Soy sauce (2 tbsp),Rice vinegar (1 tbsp),Sugar (1 tsp), Cornstarch (1 tsp), Garlic (3 cloves) Ginger (1-inch piece),Spring onions (2 stalks)\",\n",
    "                \"instructions\":\n",
    "                \"Cut chicken into small cubes and marinate with soy sauce and cornstarch for 10 minutes. Heat oil in a wok, fry dried chilies and peanuts until fragrant. Add garlic and ginger, stir-fry for 30 seconds. Add chicken and stir-fry until golden brown. Mix soy sauce, rice vinegar, sugar, and stir into the wok. Add spring onions and stir-fry for 2 more minutes before serving.\",\n",
    "            },"
   ]
  },
  {
   "cell_type": "markdown",
   "metadata": {},
   "source": [
    "These recipes are all seperated by the type of meat or if it is a vegan recipe, and all are stored using a dictionaries and here is an example of one for chicken recipes. \n"
   ]
  },
  {
   "cell_type": "code",
   "execution_count": null,
   "metadata": {},
   "outputs": [],
   "source": [
    "def get_chicken_recipe(name):"
   ]
  },
  {
   "cell_type": "markdown",
   "metadata": {},
   "source": [
    "Then this code will define the recipes and that it will be using a get method to retrieve the recipe data from the API and return it in JSON or give an error message if it was not found. "
   ]
  },
  {
   "cell_type": "code",
   "execution_count": null,
   "metadata": {},
   "outputs": [],
   "source": [
    "class _KungPaoChicken(Resource):\n",
    "        def get(self):\n",
    "            recipe = chinese_recipe_API.get_chicken_recipe(\"Kung Pao Chicken\")\n",
    "            if recipe:\n",
    "                return jsonify(recipe)\n",
    "            return {\"Data not found\"}, 404"
   ]
  },
  {
   "cell_type": "markdown",
   "metadata": {},
   "source": [
    "Then here, endpoints for the recipes are created to be called to the frontend. "
   ]
  },
  {
   "cell_type": "code",
   "execution_count": null,
   "metadata": {},
   "outputs": [],
   "source": [
    "api.add_resource(chinese_recipe_API._KungPaoChicken, '/chinese_recipe/KungPaoChicken')"
   ]
  },
  {
   "cell_type": "markdown",
   "metadata": {},
   "source": [
    "Heres the code in main.py which creates the flask route to store the recipes variables of name, dish, time, ingredients, and instructions."
   ]
  },
  {
   "cell_type": "code",
   "execution_count": null,
   "metadata": {},
   "outputs": [],
   "source": [
    "@app.route('/api/chinese_recipe/save_recipe', methods=['POST'])\n",
    "def save_recipe_route():\n",
    "    data = request.get_json()\n",
    "    name = data.get('name')\n",
    "    dish = data.get('dish')\n",
    "    time = data.get('time')\n",
    "    ingredients = data.get('ingredients')\n",
    "    instructions = data.get('instructions')\n",
    "    \n",
    "    recipe = save_recipe(name, dish, time, ingredients, instructions)\n",
    "    if recipe:\n",
    "        return jsonify({\"message\": \"Recipe saved successfully\", \"recipe\": recipe.read()}), 201\n",
    "    else:\n",
    "        return jsonify({\"error\": \"Recipe could not be created\"}), 400"
   ]
  },
  {
   "cell_type": "markdown",
   "metadata": {},
   "source": [
    "This is another flask route that will use GET method to fetch all the data from the database. This route will be used to fetch all the data when users click on the stored recipes button from the frontend."
   ]
  },
  {
   "cell_type": "code",
   "execution_count": null,
   "metadata": {},
   "outputs": [],
   "source": [
    "@app.route('/get_recipes', methods=['GET'])\n",
    "def get_recipes():\n",
    "    try:\n",
    "        recipes = Recipe.query.all()  # Fetch all recipes\n",
    "        recipes_list = [recipe.read() for recipe in recipes]  # Convert to list of dicts\n",
    "        return jsonify(recipes_list), 200\n",
    "    except Exception as e:\n",
    "        return jsonify({\"error\": str(e)}), 500\n"
   ]
  },
  {
   "cell_type": "markdown",
   "metadata": {},
   "source": [
    "This creates the save recipe parameters which are also name, dish, time, ingredients and insructions, then uses a create method in order to save that data and store it into the database."
   ]
  },
  {
   "cell_type": "code",
   "execution_count": null,
   "metadata": {},
   "outputs": [],
   "source": [
    "def save_recipe(name, dish, time, ingredients, instructions):\n",
    "    new_recipe = Recipe(name=name, dish=dish, time=time, ingredients=ingredients, instructions=instructions)\n",
    "    return new_recipe.create()"
   ]
  },
  {
   "cell_type": "markdown",
   "metadata": {},
   "source": [
    "# Frontend\n",
    "\n",
    "When users click on Shuffle Recipes, the frontend is setup to fetch 5 recipes from each category and display them on the website using the url endpoints created in the backend. at random along with error handling in case of API errors. "
   ]
  },
  {
   "cell_type": "code",
   "execution_count": null,
   "metadata": {
    "vscode": {
     "languageId": "javascript"
    }
   },
   "outputs": [],
   "source": [
    "\n",
    "const selectedUrls = {\n",
    "                chicken: apiUrls.chicken[Math.floor(Math.random() * apiUrls.chicken.length)],\n",
    "                beef: apiUrls.beef[Math.floor(Math.random() * apiUrls.beef.length)],\n",
    "                vegan: apiUrls.vegan[Math.floor(Math.random() * apiUrls.vegan.length)],\n",
    "                fish: apiUrls.fish[Math.floor(Math.random() * apiUrls.fish.length)],\n",
    "                lamb: apiUrls.lamb[Math.floor(Math.random() * apiUrls.lamb.length)]\n",
    "            };\n",
    "\n",
    "            try {\n",
    "                const recipeDataDiv = document.getElementById('recipe-data');\n",
    "                recipeDataDiv.innerHTML = ''; // Clear previous recipes\n",
    "\n",
    "                const fetchPromises = Object.values(selectedUrls).map(async (url) => {\n",
    "                    const response = await fetch(url);\n",
    "                    if (response.ok) {\n",
    "                        return await response.json();\n",
    "                    } else {\n",
    "                        throw new Error('Error fetching a recipe');\n",
    "                    }\n",
    "                });\n",
    "\n",
    "                const recipes = await Promise.all(fetchPromises);\n",
    "\n",
    "                recipes.forEach(recipe => {\n",
    "                    const recipeDiv = document.createElement('div');\n",
    "                    recipeDiv.classList.add('recipe-card');\n",
    "                    recipeDiv.innerHTML = `\n",
    "                        <h3>${recipe.dish}</h3>\n",
    "                        <p><strong>Time:</strong> ${recipe.time} minutes</p>\n",
    "                        <p><strong>Ingredients:</strong> ${Array.isArray(recipe.ingredients) ? recipe.ingredients.join(', ') : recipe.ingredients}</p>\n",
    "                        <p><strong>Instructions:</strong> ${recipe.instructions}</p>\n",
    "                        <button onclick='saveRecipe(${JSON.stringify(recipe)})'>Save Recipe</button>\n",
    "                    `;\n",
    "                    recipeDataDiv.appendChild(recipeDiv);\n",
    "                });\n",
    "\n",
    "                recipeDataDiv.style.display = 'flex';  \n",
    "            } catch (error) {\n",
    "                document.getElementById('recipe-data').innerText = `Error: ${error.message}`;\n",
    "            }\n",
    "        }"
   ]
  },
  {
   "cell_type": "markdown",
   "metadata": {},
   "source": [
    "Users will also be able to store recipes they catch their eyes but still want to keep shuffling. This will be done using a button with the following code for this function which will cause the recipe to be stored in the database."
   ]
  },
  {
   "cell_type": "code",
   "execution_count": null,
   "metadata": {
    "vscode": {
     "languageId": "javascript"
    }
   },
   "outputs": [],
   "source": [
    "async function saveRecipe(recipe) {\n",
    "        try {\n",
    "            const response = await fetch('http://127.0.0.1:8887/save_recipe', {\n",
    "                method: 'POST',\n",
    "                headers: {\n",
    "                    'Content-Type': 'application/json'\n",
    "                },\n",
    "                body: JSON.stringify({\n",
    "                    \"title\": recipe.dish,\n",
    "                    \"ingredients\": recipe.ingredients,\n",
    "                    \"instructions\": recipe.instructions,\n",
    "                    \"time\": recipe.time\n",
    "                })\n",
    "            });\n"
   ]
  },
  {
   "cell_type": "markdown",
   "metadata": {},
   "source": [
    "In order to view the recipes that users store they can click a button below the shuffle recipes button called Stored recipes, These will be called from the database with the following code."
   ]
  },
  {
   "cell_type": "code",
   "execution_count": null,
   "metadata": {
    "vscode": {
     "languageId": "javascript"
    }
   },
   "outputs": [],
   "source": [
    "async function viewStoredRecipes() {\n",
    "        try {\n",
    "            const response = await fetch('http://127.0.0.1:8887/get_recipes');\n",
    "            const contentType = response.headers.get(\"content-type\");\n",
    "\n",
    "            if (contentType && contentType.indexOf(\"application/json\") !== -1) {\n",
    "                const recipes = await response.json();\n",
    "\n",
    "                const recipeDataDiv = document.getElementById('recipe-data');\n",
    "                recipeDataDiv.innerHTML = ''; // Clear previous recipes\n",
    "\n",
    "                recipes.forEach(recipe => {\n",
    "                    const recipeDiv = document.createElement('div');\n",
    "                    recipeDiv.classList.add('recipe-card');\n",
    "                    recipeDiv.innerHTML = `\n",
    "                        <h3>${recipe.title}</h3>\n",
    "                        <p><strong>Ingredients:</strong> ${recipe.ingredients}</p>\n",
    "                        <p><strong>Instructions:</strong> ${recipe.instructions}</p>\n",
    "                    `;\n",
    "                    recipeDataDiv.appendChild(recipeDiv);\n",
    "                });\n",
    "            } else {\n",
    "                throw new Error('Invalid response from server');\n",
    "            }"
   ]
  }
 ],
 "metadata": {
  "language_info": {
   "name": "python"
  }
 },
 "nbformat": 4,
 "nbformat_minor": 2
}
