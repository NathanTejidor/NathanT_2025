{
 "cells": [
  {
   "cell_type": "raw",
   "metadata": {
    "vscode": {
     "languageId": "raw"
    }
   },
   "source": [
    "---\n",
    "layout: post\n",
    "title: Sprint 5 \n",
    "permalink: /posts/sprint5/\n",
    "---"
   ]
  },
  {
   "cell_type": "markdown",
   "metadata": {},
   "source": [
    "# Teams Purpose \n",
    "The purpose of our group’s program is a random recipe generator with a ai bot that can assist users in the webiste, functions to post, store, retrieve, edit, and delete recipes. Along with a way to leave feedback on recipes "
   ]
  },
  {
   "cell_type": "markdown",
   "metadata": {},
   "source": [
    "# My Feature\n",
    "<li>Displaying a random recipe fetched from an external API (e.g., Chinese cuisine).</li>\n",
    "\n",
    "<li>Saving the fetched recipe to a local database using POST requests.</li>\n",
    "\n",
    "<li>Managing stored recipes: allowing users to edit or delete recipes via UI interactions (e.g., PUT for updates, DELETE for deletions).</li>\n",
    "\n",
    "<li>This feature integrates the frontend (HTML/CSS/JavaScript) for dynamic content and the backend (Flask/Django) for interacting with the database.</li>\n",
    "                     "
   ]
  },
  {
   "cell_type": "markdown",
   "metadata": {},
   "source": [
    "# Frontend Input\n",
    "<li> User Input: Users interact with the frontend by clicking buttons like \"Save Recipe\" or \"Shuffle Recipes\".</li>\n",
    "<li>Frontend Interaction: Upon interaction, the frontend makes a request to the backend API using fetch </li>"
   ]
  },
  {
   "cell_type": "code",
   "execution_count": null,
   "metadata": {
    "vscode": {
     "languageId": "javascript"
    }
   },
   "outputs": [],
   "source": [
    "fetchRandomRecipe() {\n",
    "  fetch('http://127.0.0.1:8887/api/chinese_recipe/KungPaoChicken')\n",
    "      .then(response => response.json())\n",
    "      .then(data => displayRecipe(data))\n",
    "      .catch(error => console.error('Error fetching recipe:', error));\n",
    "}\n",
    "\n"
   ]
  },
  {
   "cell_type": "markdown",
   "metadata": {},
   "source": [
    "JSON Response: The backend responds with the JSON data, which is then processed and displayed on the webpage. Dictionaries were used to seperate these recipes into categories of chicken, beef, vegan, fish, and lamb. Here is an example of the data response."
   ]
  },
  {
   "cell_type": "code",
   "execution_count": null,
   "metadata": {
    "vscode": {
     "languageId": "javascript"
    }
   },
   "outputs": [],
   "source": [
    "class chinese_recipe_API:\n",
    "    @staticmethod\n",
    "    def get_chicken_recipe(name):\n",
    "        recipes = { \n",
    "    \"dish\": \"Kung Pao Chicken\",\n",
    "    \"time\": 25,\n",
    "    \"ingredients\": [\"chicken\", \"peanuts\", \"soy sauce\", \"garlic\", \"ginger\"],\n",
    "    \"instructions\": \"Stir-fry chicken with sauce and peanuts.\"\n",
    "}\""
   ]
  },
  {
   "cell_type": "code",
   "execution_count": null,
   "metadata": {
    "vscode": {
     "languageId": "javascript"
    }
   },
   "outputs": [],
   "source": [
    "{\n",
    "    \"dish\": \"Kung Pao Chicken\",\n",
    "    \"time\": 25,\n",
    "    \"ingredients\": [\"chicken\", \"peanuts\", \"soy sauce\", \"garlic\", \"ginger\"],\n",
    "    \"instructions\": \"Stir-fry chicken with sauce and peanuts.\"\n",
    "}\n"
   ]
  },
  {
   "cell_type": "markdown",
   "metadata": {},
   "source": [
    "# Backend Operations\n",
    "The database stores recipes in a table where each row represents a single recipe and each column represents a recipe attribute (e.g., dish, ingredients). SQLAlchemy maps the rows of this table to Python objects."
   ]
  },
  {
   "cell_type": "code",
   "execution_count": null,
   "metadata": {},
   "outputs": [],
   "source": [
    "class Recipe(db.Model):\n",
    "    id = db.Column(db.Integer, primary_key=True)\n",
    "    dish = db.Column(db.String(100), nullable=False)\n",
    "    time = db.Column(db.Integer)\n",
    "    ingredients = db.Column(db.String(200))\n",
    "    instructions = db.Column(db.String(500))\n",
    "\n",
    "    def to_dict(self):\n",
    "        return {\n",
    "            'id': self.id,\n",
    "            'dish': self.dish,\n",
    "            'time': self.time,\n",
    "            'ingredients': self.ingredients.split(','),\n",
    "            'instructions': self.instructions\n",
    "        }\n"
   ]
  },
  {
   "cell_type": "markdown",
   "metadata": {},
   "source": [
    "<li>Recipe is a model class that represents the recipe table in the database.</li>\n",
    "\n",
    "<li>db.Model: This is the base class for SQLAlchemy models.</li>\n",
    "\n",
    "<li>db.Column: This defines a column in the table, where Integer, String, etc., are the column types.</li>\n",
    "\n",
    "<li>to_dict(): A method that converts an object instance into a dictionary (useful for converting the object to JSON when sending a response).</li>"
   ]
  },
  {
   "cell_type": "markdown",
   "metadata": {},
   "source": [
    "# Api methods for CRUD\n",
    "<li>POST (Create): Creates a new recipe and adds it to the database.</li>"
   ]
  },
  {
   "cell_type": "code",
   "execution_count": null,
   "metadata": {},
   "outputs": [],
   "source": [
    "@app.route('/api/recipes', methods=['POST'])\n",
    "def create_recipe():\n",
    "    data = request.get_json()  # Get the request body as JSON\n",
    "    new_recipe = Recipe(\n",
    "        dish=data['dish'],\n",
    "        time=data['time'],\n",
    "        ingredients=','.join(data['ingredients']),  # Store ingredients as a string\n",
    "        instructions=data['instructions']\n",
    "    )\n",
    "    db.session.add(new_recipe)  # Add new recipe to the session\n",
    "    db.session.commit()  # Commit changes to the database\n",
    "    return jsonify(new_recipe.to_dict()), 201  # Return the new recipe as JSON\n"
   ]
  },
  {
   "cell_type": "markdown",
   "metadata": {},
   "source": [
    "<li>request.get_json(): Extracts the data from the request body as a JSON object.</li>\n",
    "<li>db.session.add(): Adds the new object (recipe) to the session for database persistence.</li>\n",
    "<li>db.session.commit(): Commits the changes, meaning the new recipe is saved to the database.</li>\n",
    "\n",
    "# GET (Read): Fetches a recipe by its ID."
   ]
  },
  {
   "cell_type": "code",
   "execution_count": null,
   "metadata": {},
   "outputs": [],
   "source": [
    "@app.route('/api/recipes/<int:id>', methods=['GET'])\n",
    "def get_recipe(id):\n",
    "    recipe = Recipe.query.get(id)  \n",
    "    if recipe:\n",
    "        return jsonify(recipe.to_dict())  \n",
    "    return jsonify({\"error\": \"Recipe not found\"}), 404  # Handle case when recipe is not found\n"
   ]
  },
  {
   "cell_type": "markdown",
   "metadata": {},
   "source": [
    "<li>Recipe.query.get(id): Queries the database for a recipe by its primary key (id).</li>\n",
    "<li>jsonify(): Converts a Python object (like a dictionary) into a JSON response.</li>\n",
    "\n",
    "# PUT (Update): Updates an existing recipe with new data."
   ]
  },
  {
   "cell_type": "code",
   "execution_count": null,
   "metadata": {},
   "outputs": [],
   "source": [
    "@app.route('/api/recipes/<int:id>', methods=['PUT'])\n",
    "def update_recipe(id):\n",
    "    data = request.get_json()  \n",
    "    recipe = Recipe.query.get(id)  \n",
    "    if recipe:\n",
    "        recipe.dish = data['dish']\n",
    "        recipe.time = data['time']\n",
    "        recipe.ingredients = ','.join(data['ingredients'])\n",
    "        recipe.instructions = data['instructions']\n",
    "        db.session.commit()  \n",
    "        return jsonify(recipe.to_dict())\n",
    "    return jsonify({\"error\": \"Recipe not found\"}), 404\n"
   ]
  },
  {
   "cell_type": "markdown",
   "metadata": {},
   "source": [
    "This code updates a recipe in the database using the recipe's id. It gets the new data from the request, updates the recipe, and saves the changes. If the recipe isn't found, it returns an error.\n",
    "<br>\n",
    "<li>request.get_json(): Extracts the updated data from the request body.</li>\n",
    "<li>db.session.commit(): Finalizes the changes by committing them to the database.</li>\n",
    "\n",
    "DELETE (Delete): Deletes a recipe from the database."
   ]
  },
  {
   "cell_type": "code",
   "execution_count": null,
   "metadata": {},
   "outputs": [],
   "source": [
    "@app.route('/api/recipes/<int:id>', methods=['DELETE'])\n",
    "def delete_recipe(id):\n",
    "    recipe = Recipe.query.get(id) \n",
    "    if recipe:\n",
    "        db.session.delete(recipe)\n",
    "        db.session.commit()  #\n",
    "        return jsonify({\"message\": \"Recipe deleted successfully\"}), 200\n",
    "    return jsonify({\"error\": \"Recipe not found\"}), 404\n"
   ]
  },
  {
   "cell_type": "markdown",
   "metadata": {},
   "source": [
    "<li>db.session.delete(): Marks the object for deletion.</li>\n",
    "<li>db.session.commit(): Commits the change, removing the record from the database.</li>"
   ]
  },
  {
   "cell_type": "markdown",
   "metadata": {},
   "source": [
    "# Database Queries "
   ]
  },
  {
   "cell_type": "code",
   "execution_count": null,
   "metadata": {},
   "outputs": [],
   "source": [
    "\n",
    "recipes = db.session.query(Recipe).all()  \n",
    "\n",
    "\n",
    "recipe = db.session.query(Recipe).filter(Recipe.dish == 'Kung Pao Chicken').first()\n",
    "\n"
   ]
  },
  {
   "cell_type": "markdown",
   "metadata": {},
   "source": [
    "# Error handling \n",
    "Error handling in case users try to fetch an error that doesn't exist "
   ]
  },
  {
   "cell_type": "code",
   "execution_count": null,
   "metadata": {},
   "outputs": [],
   "source": [
    "if not recipe:\n",
    "    return jsonify({\"error\": \"Recipe not found\"}), 404  \n"
   ]
  },
  {
   "cell_type": "markdown",
   "metadata": {},
   "source": [
    "<li>Sequencing: The operations are performed in a specific order: data is first received from a HTTP url request, then validated, processed, and stored or fetched from the database.</li>\n",
    "<li>Selection: The program checks for specific conditions before proceeding, e.g., whether a recipe exists before attempting to update or delete it.</li>\n",
    "<li>Iteration: The program can iterate over multiple recipes when fetching a list of them from the database.</li>"
   ]
  },
  {
   "cell_type": "markdown",
   "metadata": {},
   "source": [
    "<br>\n",
    "<br>\n",
    "<br>\n",
    "<br>\n",
    "<br>\n",
    "<br>\n",
    "<br>\n",
    "<br>\n",
    "<br>\n",
    "<br>\n",
    "<br>\n",
    "<br>\n",
    "<br>\n",
    "<br>\n",
    "<br>\n",
    "<br>\n"
   ]
  },
  {
   "cell_type": "markdown",
   "metadata": {},
   "source": [
    "# Backend\n",
    "\n",
    "Heres an example of the data for a chinese cuisine Kung Pao Chicken:"
   ]
  },
  {
   "cell_type": "code",
   "execution_count": null,
   "metadata": {},
   "outputs": [],
   "source": [
    "\"Kung Pao Chicken\": {\n",
    "                \"dish\": \"Kung Pao Chicken\",\n",
    "                \"time\": 30,\n",
    "                \"ingredients\": \"Chicken breast (500g), Dried red chilies (10-12)  Peanuts (50g),Soy sauce (2 tbsp),Rice vinegar (1 tbsp),Sugar (1 tsp), Cornstarch (1 tsp), Garlic (3 cloves) Ginger (1-inch piece),Spring onions (2 stalks)\",\n",
    "                \"instructions\":\n",
    "                \"Cut chicken into small cubes and marinate with soy sauce and cornstarch for 10 minutes. Heat oil in a wok, fry dried chilies and peanuts until fragrant. Add garlic and ginger, stir-fry for 30 seconds. Add chicken and stir-fry until golden brown. Mix soy sauce, rice vinegar, sugar, and stir into the wok. Add spring onions and stir-fry for 2 more minutes before serving.\",\n",
    "            },"
   ]
  },
  {
   "cell_type": "markdown",
   "metadata": {},
   "source": [
    "These recipes are all seperated by the type of meat or if it is a vegan recipe, and all are stored using a dictionaries and here is an example of one for chicken recipes. \n"
   ]
  },
  {
   "cell_type": "code",
   "execution_count": null,
   "metadata": {},
   "outputs": [],
   "source": [
    "def get_chicken_recipe(name):"
   ]
  },
  {
   "cell_type": "markdown",
   "metadata": {},
   "source": [
    "Then this code will define the recipes and that it will be using a get method to retrieve the recipe data from the API and return it in JSON or give an error message if it was not found. "
   ]
  },
  {
   "cell_type": "code",
   "execution_count": null,
   "metadata": {},
   "outputs": [],
   "source": [
    "class _KungPaoChicken(Resource):\n",
    "        def get(self):\n",
    "            recipe = chinese_recipe_API.get_chicken_recipe(\"Kung Pao Chicken\")\n",
    "            if recipe:\n",
    "                return jsonify(recipe)\n",
    "            return {\"Data not found\"}, 404"
   ]
  },
  {
   "cell_type": "markdown",
   "metadata": {},
   "source": [
    "Then here, endpoints for the recipes are created to be called to the frontend. "
   ]
  },
  {
   "cell_type": "code",
   "execution_count": null,
   "metadata": {},
   "outputs": [],
   "source": [
    "api.add_resource(chinese_recipe_API._KungPaoChicken, '/chinese_recipe/KungPaoChicken')"
   ]
  },
  {
   "cell_type": "markdown",
   "metadata": {},
   "source": [
    "Heres the code in main.py which creates the flask route to store the recipes variables of name, dish, time, ingredients, and instructions."
   ]
  },
  {
   "cell_type": "code",
   "execution_count": null,
   "metadata": {},
   "outputs": [],
   "source": [
    "@app.route('/api/chinese_recipe/save_recipe', methods=['POST'])\n",
    "def save_recipe_route():\n",
    "    data = request.get_json()\n",
    "    name = data.get('name')\n",
    "    dish = data.get('dish')\n",
    "    time = data.get('time')\n",
    "    ingredients = data.get('ingredients')\n",
    "    instructions = data.get('instructions')\n",
    "    \n",
    "    recipe = save_recipe(name, dish, time, ingredients, instructions)\n",
    "    if recipe:\n",
    "        return jsonify({\"message\": \"Recipe saved successfully\", \"recipe\": recipe.read()}), 201\n",
    "    else:\n",
    "        return jsonify({\"error\": \"Recipe could not be created\"}), 400"
   ]
  },
  {
   "cell_type": "markdown",
   "metadata": {},
   "source": [
    "This is another flask route that will use GET method to fetch all the data from the database. This route will be used to fetch all the data when users click on the stored recipes button from the frontend."
   ]
  },
  {
   "cell_type": "code",
   "execution_count": null,
   "metadata": {},
   "outputs": [],
   "source": [
    "@app.route('/get_recipes', methods=['GET'])\n",
    "def get_recipes():\n",
    "    try:\n",
    "        recipes = Recipe.query.all()  \n",
    "        recipes_list = [recipe.read() for recipe in recipes] \n",
    "        return jsonify(recipes_list), 200\n",
    "    except Exception as e:\n",
    "        return jsonify({\"error\": str(e)}), 500\n"
   ]
  },
  {
   "cell_type": "markdown",
   "metadata": {},
   "source": [
    "This is another flask route but instead for deleting recipes that users no longer want to be stored in the database. It is used to handle requests for deleting data stored in the database, it calls the delete method to use it and has error handling to show the user if something goes wrong or if their recipe was saved."
   ]
  },
  {
   "cell_type": "code",
   "execution_count": null,
   "metadata": {},
   "outputs": [],
   "source": [
    "@app.route('/api/chinese_recipe/delete_recipe/<int:recipe_id>', methods=['DELETE'])\n",
    "def delete_recipe(recipe_id):\n",
    "    try:\n",
    "        \n",
    "        recipe = Recipe.query.get(recipe_id)\n",
    "        if recipe:\n",
    "            recipe.delete()  \n",
    "            return jsonify({\"message\": \"Recipe deleted successfully\"}), 200\n",
    "        else:\n",
    "            return jsonify({\"error\": \"Recipe not found\"}), 404\n",
    "    except Exception as e:\n",
    "        return jsonify({\"error\": str(e)}), 500"
   ]
  },
  {
   "cell_type": "markdown",
   "metadata": {},
   "source": [
    "This creates the save recipe parameters which are also name, dish, time, ingredients and insructions, then uses a create method in order to save that data and store it into the database."
   ]
  },
  {
   "cell_type": "code",
   "execution_count": null,
   "metadata": {},
   "outputs": [],
   "source": [
    "def save_recipe(name, dish, time, ingredients, instructions):\n",
    "    new_recipe = Recipe(name=name, dish=dish, time=time, ingredients=ingredients, instructions=instructions)\n",
    "    return new_recipe.create()"
   ]
  },
  {
   "cell_type": "markdown",
   "metadata": {},
   "source": [
    "# Frontend\n",
    "\n",
    "When users click on Shuffle Recipes, the frontend is setup to fetch 5 recipes from each category and display them on the website using the url endpoints created in the backend. at random."
   ]
  },
  {
   "cell_type": "code",
   "execution_count": null,
   "metadata": {
    "vscode": {
     "languageId": "javascript"
    }
   },
   "outputs": [],
   "source": [
    "\n",
    "const selectedUrls = {\n",
    "                chicken: apiUrls.chicken[Math.floor(Math.random() * apiUrls.chicken.length)],\n",
    "                beef: apiUrls.beef[Math.floor(Math.random() * apiUrls.beef.length)],\n",
    "                vegan: apiUrls.vegan[Math.floor(Math.random() * apiUrls.vegan.length)],\n",
    "                fish: apiUrls.fish[Math.floor(Math.random() * apiUrls.fish.length)],\n",
    "                lamb: apiUrls.lamb[Math.floor(Math.random() * apiUrls.lamb.length)]\n",
    "            };\n",
    "\n",
    "            try {\n",
    "                const recipeDataDiv = document.getElementById('recipe-data');\n",
    "                recipeDataDiv.innerHTML = ''; // Clear previous recipes\n",
    "\n",
    "                const fetchPromises = Object.values(selectedUrls).map(async (url) => {\n",
    "                    const response = await fetch(url);\n",
    "                    if (response.ok) {\n",
    "                        return await response.json();\n",
    "                    } else {\n",
    "                        throw new Error('Error fetching a recipe');\n",
    "                    }\n",
    "                });\n",
    "\n",
    "                const recipes = await Promise.all(fetchPromises);\n",
    "\n",
    "                recipes.forEach(recipe => {\n",
    "                    const recipeDiv = document.createElement('div');\n",
    "                    recipeDiv.classList.add('recipe-card');\n",
    "                    recipeDiv.innerHTML = `\n",
    "                        <h3>${recipe.dish}</h3>\n",
    "                        <p><strong>Time:</strong> ${recipe.time} minutes</p>\n",
    "                        <p><strong>Ingredients:</strong> ${Array.isArray(recipe.ingredients) ? recipe.ingredients.join(', ') : recipe.ingredients}</p>\n",
    "                        <p><strong>Instructions:</strong> ${recipe.instructions}</p>\n",
    "                        <button onclick='saveRecipe(${JSON.stringify(recipe)})'>Save Recipe</button>\n",
    "                    `;\n",
    "                    recipeDataDiv.appendChild(recipeDiv);\n",
    "                });\n",
    "\n",
    "                recipeDataDiv.style.display = 'flex';  \n",
    "            } catch (error) {\n",
    "                document.getElementById('recipe-data').innerText = `Error: ${error.message}`;\n",
    "            }\n",
    "        }"
   ]
  },
  {
   "cell_type": "markdown",
   "metadata": {},
   "source": [
    "Users will also be able to store recipes they catch their eyes but still want to keep shuffling. This will be done using a button with the following code for this function which will cause the recipe to be stored in the database with a POST request and have the data turned into a string to be sent to the database."
   ]
  },
  {
   "cell_type": "code",
   "execution_count": null,
   "metadata": {
    "vscode": {
     "languageId": "javascript"
    }
   },
   "outputs": [],
   "source": [
    "async function saveRecipe(recipe) {\n",
    "        try {\n",
    "            const response = await fetch('http://127.0.0.1:8887/save_recipe', {\n",
    "                method: 'POST',\n",
    "                headers: {\n",
    "                    'Content-Type': 'application/json'\n",
    "                },\n",
    "                body: JSON.stringify({\n",
    "                    \"title\": recipe.dish,\n",
    "                    \"ingredients\": recipe.ingredients,\n",
    "                    \"instructions\": recipe.instructions,\n",
    "                    \"time\": recipe.time\n",
    "                })\n",
    "            });\n"
   ]
  },
  {
   "cell_type": "markdown",
   "metadata": {},
   "source": [
    "In order to view the recipes that users store they can click a button below the shuffle recipes button called Stored recipes, These will be called from the database with the following code, which uses the fetch API, and ensuring that the data is in JSON format which then creates the HTML elements of the stored recipes along with the button to delete the recipe."
   ]
  },
  {
   "cell_type": "code",
   "execution_count": null,
   "metadata": {
    "vscode": {
     "languageId": "javascript"
    }
   },
   "outputs": [],
   "source": [
    "async function viewStoredRecipes() {\n",
    "    try {\n",
    "        const response = await fetch('http://127.0.0.1:8887/get_recipes');\n",
    "        const contentType = response.headers.get(\"content-type\");\n",
    "\n",
    "        if (contentType && contentType.indexOf(\"application/json\") !== -1) {\n",
    "            const recipes = await response.json();\n",
    "\n",
    "            const recipeDataDiv = document.getElementById('recipe-data');\n",
    "            recipeDataDiv.innerHTML = ''; // Clear previous recipes\n",
    "\n",
    "            recipes.forEach(recipe => {\n",
    "                const recipeDiv = document.createElement('div');\n",
    "                recipeDiv.classList.add('recipe-card');\n",
    "                recipeDiv.innerHTML = `\n",
    "                    <h3>${recipe.dish}</h3>\n",
    "                    <p><strong>Ingredients:</strong> ${recipe.ingredients}</p>\n",
    "                    <p><strong>Instructions:</strong> ${recipe.instructions}</p>\n",
    "                    <button onclick='deleteRecipe(${recipe.id})'>Delete Recipe</button>  <!-- Add delete button -->\n",
    "                `;\n",
    "                recipeDataDiv.appendChild(recipeDiv);\n",
    "            });\n",
    "        } else {\n",
    "            throw new Error('Invalid response from server');\n",
    "        }\n",
    "    } catch (error) {\n",
    "        document.getElementById('recipe-data').innerText = `Error: ${error.message}`;\n",
    "    }\n",
    "}"
   ]
  },
  {
   "cell_type": "markdown",
   "metadata": {},
   "source": [
    "Then this function sends a delete request to the server using fetch in order to remove recipe data from the database that users no longer want."
   ]
  },
  {
   "cell_type": "code",
   "execution_count": null,
   "metadata": {
    "vscode": {
     "languageId": "javascript"
    }
   },
   "outputs": [],
   "source": [
    "async function deleteRecipe(recipeId) {\n",
    "    try {\n",
    "        const response = await fetch(`http://127.0.0.1:8887/api/chinese_recipe/delete_recipe/${recipeId}`, {\n",
    "            method: 'DELETE',\n",
    "        });\n",
    "\n",
    "        if (response.ok) {\n",
    "            alert('Recipe deleted successfully');\n",
    "            \n",
    "            viewStoredRecipes();\n",
    "        } else {\n",
    "            const data = await response.json();\n",
    "            alert(data.error || 'Error deleting recipe');\n",
    "        }\n",
    "    } catch (error) {\n",
    "        alert(`Error: ${error.message}`);\n",
    "    }\n",
    "}"
   ]
  }
 ],
 "metadata": {
  "language_info": {
   "name": "python"
  }
 },
 "nbformat": 4,
 "nbformat_minor": 2
}
