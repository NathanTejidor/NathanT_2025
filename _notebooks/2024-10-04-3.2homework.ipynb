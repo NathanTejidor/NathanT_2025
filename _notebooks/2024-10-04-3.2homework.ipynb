{
 "cells": [
  {
   "cell_type": "markdown",
   "metadata": {},
   "source": [
    "---\n",
    "layout: post\n",
    "title: 3.2 Homework\n",
    "permalink: /posts/3.2-homework/\n",
    "---"
   ]
  },
  {
   "cell_type": "code",
   "execution_count": null,
   "metadata": {},
   "outputs": [],
   "source": [
    "import json  # make sure to import this or it will break your code\n",
    "\n",
    "# dict\n",
    "ferrari_laferrari = {\n",
    "    \"name\": \"Ferrari LaFerrari\",\n",
    "    \"performance\": {\n",
    "        \"engine\": \"6.3-liter V12 hybrid\",\n",
    "        \"horsepower\": 950,\n",
    "        \"acceleration\": \"0 to 100 km/h in 2.6 seconds\",\n",
    "        \"top_speed\": \"over 350 km/h\"\n",
    "    },\n",
    "    \"features\": {\n",
    "        \"aerodynamics\": \"active aerodynamics\",\n",
    "        \"stability_technologies\": \"Ferrari Dynamic Enhancer\",\n",
    "        \"stability_control\": \"superb at high speeds\"\n",
    "    },\n",
    "    \"pricing\": {\n",
    "        \"original_price\": \"$1.5 million\",\n",
    "        \"production_run\": 499,\n",
    "        \"rarity\": \"exclusive, highly desirable among collectors\"\n",
    "    }\n",
    "}\n",
    "\n",
    "# as you can see, you can mix and match different data types such as strings, int/floats, bools, dicts, lists, etc\n",
    "\n",
    "jsonstring = json.dumps(ferrari_laferrari)\n",
    "\n",
    "print(jsonstring)\n"
   ]
  },
  {
   "cell_type": "code",
   "execution_count": null,
   "metadata": {
    "vscode": {
     "languageId": "javascript"
    }
   },
   "outputs": [],
   "source": [
    "let facts = true\n",
    "console.log(\"Magic 8 Ball, does Nolan deserve an A in this class?\")\n",
    "console.log(\"[8] Magic 8 Ball is thinking ...\")\n",
    "console.log(\"[8] The ball has decided, that is \" + facts)"
   ]
  }
 ],
 "metadata": {
  "language_info": {
   "name": "python"
  }
 },
 "nbformat": 4,
 "nbformat_minor": 2
}
