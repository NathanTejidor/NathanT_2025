{
 "cells": [
  {
   "cell_type": "raw",
   "metadata": {
    "vscode": {
     "languageId": "raw"
    }
   },
   "source": [
    "---\n",
    "layout: post\n",
    "title: Final HW Blog\n",
    "type: issues\n",
    "comments: true\n",
    "permalink: /hw-final/\n",
    "---"
   ]
  },
  {
   "cell_type": "markdown",
   "metadata": {},
   "source": [
    "# Homework and Learning Success\n",
    "\n",
    "## My Approach to Assignments\n",
    "\n",
    "* Homework success was about **extracting deeper understanding** and applying knowledge to build real skills\n",
    "* Treated each homework as practice for concepts I'd need in major projects\n",
    "* Focused on understanding the *why* behind each concept rather than just memorizing solutions\n",
    "\n",
    "---\n",
    "\n",
    "## What Made the Difference\n",
    "\n",
    "* The **quality of lessons and assignments** built practical skills we'd actually use in projects\n",
    "* Connected different programming ideas instead of learning them in isolation\n",
    "* Applied homework solutions to new problems during project development\n",
    "* Developed debugging strategies that helped troubleshoot project issues\n",
    "\n",
    "---\n",
    "\n",
    "## Learning Through Collaboration\n",
    "\n",
    "* **Helping classmates with homework problems** deepened my own understanding significantly\n",
    "* Teaching others forced me to think critically about problem-solving approaches\n",
    "* Created natural study groups where we shared different approaches to solving problems\n",
    "* Learned from each other's mistakes and successes\n",
    "\n",
    "---\n",
    "\n",
    "**Assignment Coverage**\n",
    "\n",
    "| Assignment Topic | Big Idea Focus | Project Application |\n",
    "|------------------|----------------|-------------------|\n",
    "| **Beneficial/Harmful Effects** | Big Idea 5 | Applied to disaster prediction platform ethics and user safety considerations |\n",
    "| **Digital Divide** | Big Idea 5 | Influenced accessibility features in Rate and Relate for diverse user devices |\n",
    "| **Computing Bias** | Big Idea 5 | Prevented algorithmic bias in Take a Byte's recipe recommendation system |\n",
    "| **Crowdsourcing** | Big Idea 5 | Informed community features and user-generated content in social platforms |\n",
    "| **Legal/Ethical Concerns** | Big Idea 5 | Guided privacy implementations and data handling across all projects |\n",
    "| **Safe Computing** | Big Idea 5 | Established security practices for user authentication and data protection |\n",
    "| **Binary Search Algorithm** | Big Idea 3 | Optimized data retrieval in earthquake prediction database queries |\n",
    "| **Lists and Filtering** | Big Idea 3 | Foundation for Take A Byte's content filtering and sorting features |\n",
    "| **Simulation/Randomization** | Big Idea 3 | Enabled Take a Byte's recipe randomization and cultural wheel system |\n",
    "| **Big O Notation** | Big Idea 3 | Informed algorithm efficiency decisions for scalable ML implementations |\n",
    "| **Graphs and Networks** | Big Idea 3 | Applied to social connection systems and disaster data visualization |\n",
    "| **Binary/Base64 Encoding** | Big Idea 2 | Used in image handling for social media uploads and data transmission |\n",
    "\n",
    "## Structured Learning Routine\n",
    "\n",
    "* Reworked missed problems with different strategies to understand mistakes\n",
    "* Connected homework concepts to current project work\n",
    "* Referenced past assignments when facing new challenges in projects\n",
    "* Ask for further help in weaker subjects if needed.\n",
    "\n",
    "---\n",
    "\n",
    "## Impact on Project Success\n",
    "\n",
    "* Built foundational skills needed for complex features like ML earthquake prediction\n",
    "* Provided practice with APIs and data handling used in Take a Byte and other projects\n",
    "* Developed coding confidence that helped me take on challenging technical components\n",
    "* Created problem-solving methodology I could apply to any coding challenge\n",
    "\n",
    "---\n",
    "\n",
    "## Key Takeaways\n",
    "\n",
    "* Homework served as **skill-building practice** rather than just academic requirements\n",
    "* Teaching others reinforced learning and made complex topics more accessible\n",
    "* Consistent review and application helped retain knowledge for long-term project use\n",
    "* Quality assignments combined with peer collaboration created a strong foundation for course success"
   ]
  }
 ],
 "metadata": {
  "language_info": {
   "name": "python"
  }
 },
 "nbformat": 4,
 "nbformat_minor": 2
}
