{
 "cells": [
  {
   "cell_type": "markdown",
   "metadata": {},
   "source": [
    "---\n",
    "layout: post\n",
    "title: 3.1 Homework\n",
    "permalink: /posts/3.1-homework/\n",
    "---"
   ]
  },
  {
   "cell_type": "code",
   "execution_count": null,
   "metadata": {
    "vscode": {
     "languageId": "javascript"
    }
   },
   "outputs": [],
   "source": [
    "\n",
    "\n",
    "// Variables for name, age, and favorite number\n",
    "let myName = \"Nathan\"; // string\n",
    "let myAge = 15; // integer\n",
    "let favNumber = 7.7; // float\n",
    "\n",
    "// snake_case for favorite food, used a string since it's words\n",
    "let favorite_food = \"sinigang\";\n",
    "\n",
    "// PascalCase for favorite hobby used a string since it's words\n",
    "let favorite_hobby = \"basketball\";\n",
    "\n",
    "// camelCase for my favorite color, also used string for the same reason\n",
    "let $favoriteColor = \"blue\"\n",
    "\n",
    "// List with name, age, and favorite number. Used a dollar sign just for fun as the variable\n",
    "let $myinfo = ['Nathan','15','7']\n",
    "console.log($myinfo[0]); // output for my case\n",
    "console.log($myinfo[1]); // output for my age\n",
    "console.log($myinfo[2]); // output for my favorite number\n",
    "\n",
    "// Dictionary with name, age, and favorite number\n",
    "let myself = {\n",
    "name: 'Nathan', // string, since it's a word\n",
    "age: 15, // integer, since it's a whole number\n",
    "favoriteNumber: 7.7 // float, since it has a decimal\n",
    "};\n",
    "\n",
    "console.log(myself.name);   // Outputs: Nathan\n",
    "console.log(myself.age);   // Outputs: 15\n",
    "console.log(myself.favoriteNumber);  // Outputs: 7.7"
   ]
  },
  {
   "cell_type": "code",
   "execution_count": null,
   "metadata": {},
   "outputs": [],
   "source": [
    "# String variable and I wanted a fire name as the output of my name\n",
    "name = 'Gertrude Fluffernutter'\n",
    "print(name) \n",
    "\n",
    "# Integer variable and how old I am as of Oct 7th\n",
    "age = 16 \n",
    "\n",
    "# My favorite number as a float variable, added .7 since floats have decimals \n",
    "favorite_number = 7.7\n",
    "\n",
    "# snake_case for favorite food, made it a string because with other variables I can't put a specific word\n",
    "favorite_food = \"bbq chicken\"\n",
    "\n",
    "# PascalCase for my fav hobby, also needs to be a string for the same reason\n",
    "FavoriteHobby = \"basketball\"\n",
    "\n",
    "# camelCase for my favorite color, also string for the same reason\n",
    "favoriteColor = \"blue\"\n",
    "\n",
    "# List of the variables, put them in order of name, age, and favorite number. Named the variable my_info since it is all things true about me.\n",
    "about_me = ['Nathan','15','7']\n",
    "\n",
    "#Dictionary of the variables\n",
    "myself = {\n",
    "    'name':'Nathan' , # string, since it's a word I used a string \n",
    "    'age': 15, # integer, since it's a whole number I used a integer. Which is also why I didn't put '15' which woulda made a string\n",
    "    'favorite_number': 7.7 # float, since it has a decimal I used a float. Which is also why I didn't put '7.7' which woulda made a string\n",
    "}\n",
    "print(myself['name']) # outputs my name of Nathan\n",
    "print(myself['age']) # outputs my age of 15\n",
    "print(myself['favorite_number']) # outputs my favorite number 7.7"
   ]
  }
 ],
 "metadata": {
  "language_info": {
   "name": "python"
  }
 },
 "nbformat": 4,
 "nbformat_minor": 2
}
