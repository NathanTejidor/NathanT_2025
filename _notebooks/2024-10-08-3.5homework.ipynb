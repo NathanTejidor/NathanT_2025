{
 "cells": [
  {
   "cell_type": "markdown",
   "metadata": {},
   "source": [
    "---\n",
    "layout: post\n",
    "title: 3.5 Homework\n",
    "permalink: /posts/3.5-homework/\n",
    "---"
   ]
  },
  {
   "cell_type": "code",
   "execution_count": null,
   "metadata": {
    "vscode": {
     "languageId": "javascript"
    }
   },
   "outputs": [],
   "source": [
    "// Popcorn hack 1\n",
    "let temperature = 53;\n",
    "\n",
    "let cold = temperature < 60;\n",
    "if (cold) {\n",
    "    console.log(\"Bring a jacket\");\n",
    "} else {\n",
    "    console.log(\"You don't need a jacket\");\n",
    "}\n",
    "\n",
    "// Popcorn hack 2\n",
    "temperature = 43;\n",
    "\n",
    "let comfortable = temperature >= 63 && temperature <= 83;\n",
    "\n",
    "if (comfortable) { \n",
    "    console.log(\"It is a comfortable temperature\");\n",
    "} else {\n",
    "    console.log(\"It is not a comfortable temperature\");\n",
    "}\n",
    "\n",
    "// Popcorn hack 3\n",
    "let authorized = true;\n",
    "\n",
    "let canEnter = !authorized;\n",
    "\n",
    "console.log(canEnter ? \"You may enter\" : \"You may not enter\");\n"
   ]
  },
  {
   "cell_type": "code",
   "execution_count": null,
   "metadata": {},
   "outputs": [],
   "source": [
    "# Popcorn hack 1\n",
    "temperature = 53\n",
    "\n",
    "cold = temperature < 60\n",
    "if cold:\n",
    "    print(\"Bring a jacket\")\n",
    "\n",
    "else:\n",
    "    print(\"You don't need a jacket\")\n",
    "    \n",
    "# Popcorn hack 2\n",
    "\n",
    "temperature = 43 \n",
    "\n",
    "comfortable = temperature >= 63 and temperature <= 83\n",
    "\n",
    "if comfortable: \n",
    "    print(\"It is a comfortable temperature\")\n",
    "else:\n",
    "    print(\"It is not a comfortable temperature\")\n",
    "\n",
    "# Popcorn hack 3\n",
    "\n",
    "authorized = True\n",
    "\n",
    "can_enter = not authorized\n",
    "\n",
    "print(\"You may enter\"\n",
    "if can_enter \n",
    "else \"You may not enter\")\n"
   ]
  }
 ],
 "metadata": {
  "language_info": {
   "name": "python"
  }
 },
 "nbformat": 4,
 "nbformat_minor": 2
}
