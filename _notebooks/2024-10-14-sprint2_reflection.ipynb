{
 "cells": [
  {
   "cell_type": "markdown",
   "metadata": {
    "vscode": {
     "languageId": "raw"
    }
   },
   "source": [
    "---\n",
    "layout: post\n",
    "title: Sprint 2 Reflection\n",
    "permalink: /posts/sprint2-reflection/\n",
    "---"
   ]
  },
  {
   "cell_type": "markdown",
   "metadata": {},
   "source": [
    "# Sprint 2 Reflection\n",
    "During my time working on sprint 2 my team decided to choose lessons 3.6 and 3.7. My job was to teach if else statements and during my time making the lesson I used the Ap classroom lessons in order to learn about them myself until I was good enough to teach and explain it. Another thing was learning from the other student lessons. I learned a lot from the other student lessons which helped me to finally understand most of what the code given to us from sprint 1 does and why it is used. I have also added all my homeworks to blogs in order to reflect on them and possibly make them better in the future but also as notes to use later on.\n",
    "\n",
    "Issue for Sprint 2: https://github.com/NathanTejidor/NathanT_2025/issues/5 "
   ]
  },
  {
   "cell_type": "markdown",
   "metadata": {},
   "source": [
    "# Homeworks"
   ]
  },
  {
   "cell_type": "markdown",
   "metadata": {},
   "source": [
    "## 3.1\n",
    " <img src=\"{{site.baseurl}}/images/3.1_Homework_JS.png\"/>\n",
    "  <img src=\"{{site.baseurl}}/images/3.1_Homework_python.png\"/>"
   ]
  }
 ],
 "metadata": {
  "language_info": {
   "name": "python"
  }
 },
 "nbformat": 4,
 "nbformat_minor": 2
}
