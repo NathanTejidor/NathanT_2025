{
 "cells": [
  {
   "cell_type": "markdown",
   "metadata": {
    "vscode": {
     "languageId": "raw"
    }
   },
   "source": [
    "---\n",
    "layout: post\n",
    "title: Sprint 2 Reflection\n",
    "permalink: /posts/sprint2-reflection/\n",
    "---"
   ]
  },
  {
   "cell_type": "markdown",
   "metadata": {},
   "source": [
    "# Sprint 2 Reflection\n",
    "During my time working on sprint 2 my team decided to choose lessons 3.6 and 3.7. My job was to teach if else statements and during my time making the lesson I used the Ap classroom lessons in order to learn about them myself until I was good enough to teach and explain it. Another thing was learning from the other student lessons. I learned a lot from the other student lessons which helped me to finally understand most of what the code given to us from sprint 1 does and why it is used. I have also added all my homeworks to blogs in order to reflect on them and possibly make them better in the future but also as notes to use later on.\n",
    "\n",
    "Issue for Sprint 2: https://github.com/NathanTejidor/NathanT_2025/issues/5 "
   ]
  },
  {
   "cell_type": "markdown",
   "metadata": {},
   "source": [
    "# Homeworks"
   ]
  },
  {
   "cell_type": "markdown",
   "metadata": {},
   "source": [
    "## 3.1\n",
    "The main thing that can be used to highlight the individuality of my presentation is the use of this name as the variable. The quizzes in this lesson also helped show me how to identify python and javascript.\n",
    " <img src=\"{{site.baseurl}}/images/3.1_Homework_JS.png\"/>\n",
    "  <img src=\"{{site.baseurl}}/images/3.1_Homework_python.png\"/>"
   ]
  },
  {
   "cell_type": "markdown",
   "metadata": {},
   "source": [
    "## 3.2\n",
    "  <img src=\"{{site.baseurl}}/images/3.2_homework_python.png\"/>\n",
    "    <img src=\"{{site.baseurl}}/images/3.2_homework.png\"/>\n"
   ]
  },
  {
   "cell_type": "markdown",
   "metadata": {},
   "source": [
    "## 3.3\n",
    "Here you can see that I started to indent better since in 3.1 I didn't add many indents.\n",
    "<img src=\"{{site.baseurl}}/images/3.3_Homework.png\"/>"
   ]
  },
  {
   "cell_type": "markdown",
   "metadata": {
    "vscode": {
     "languageId": "bat"
    }
   },
   "source": [
    "## 3.4 \n",
    "<img src=\"{{site.baseurl}}/images/3.4_homework_py.png\"/>\n",
    "<img src=\"{{site.baseurl}}/images/3.4_homework_js.png\"/>"
   ]
  },
  {
   "cell_type": "markdown",
   "metadata": {},
   "source": [
    "## 3.5\n",
    "<img src=\"{{site.baseurl}}/images/3.5_homework.png\"/>"
   ]
  },
  {
   "cell_type": "markdown",
   "metadata": {},
   "source": [
    "## Goals: \n",
    "<ul>\n",
    "<li> Learn what variables are </li>\n",
    "<li> Be able to identify different variables </li>\n",
    "<li> Get comfortable with let, var, and const </li>\n",
    "<li> Learn about if statements and loops </li>\n",
    "</ul>"
   ]
  },
  {
   "cell_type": "markdown",
   "metadata": {},
   "source": [
    "## Accomplishments:\n",
    "<ul>\n",
    "<li> Understand variables and how to make them and use them in code </li>\n",
    "<li> Learn mathematical operators and how to use them </li>\n",
    "<li> Learn about JavaScript Object Notation (JSON) </li>"
   ]
  }
 ],
 "metadata": {
  "language_info": {
   "name": "python"
  }
 },
 "nbformat": 4,
 "nbformat_minor": 2
}
