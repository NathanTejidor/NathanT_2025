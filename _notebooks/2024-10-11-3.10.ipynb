{
 "cells": [
  {
   "cell_type": "markdown",
   "metadata": {},
   "source": [
    "---\n",
    "layout: post\n",
    "title: 3.10 Homework\n",
    "permalink: /posts/3.10-homework/\n",
    "---"
   ]
  },
  {
   "cell_type": "code",
   "execution_count": null,
   "metadata": {},
   "outputs": [],
   "source": [
    "grocery_items = ('eggs', 'milk', 'flour')\n",
    "print(grocery_items)\n",
    "sortedgrocery_items = ('eggs', 'flour', 'milk')\n",
    "print(sortedgrocery_items)"
   ]
  }
 ],
 "metadata": {
  "language_info": {
   "name": "python"
  }
 },
 "nbformat": 4,
 "nbformat_minor": 2
}
