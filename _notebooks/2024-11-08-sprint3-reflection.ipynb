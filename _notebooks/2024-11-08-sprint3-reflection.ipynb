{
 "cells": [
  {
   "cell_type": "raw",
   "metadata": {
    "vscode": {
     "languageId": "raw"
    }
   },
   "source": [
    "---\n",
    "layout: post\n",
    "title: Sprint 3 Reflection\n",
    "permalink: /posts/sprint3-reflection/\n",
    "---"
   ]
  },
  {
   "cell_type": "markdown",
   "metadata": {},
   "source": [
    "# Sprint 3 Summary\n",
    "In Sprint 3 my group and I were tasked to create a social media platform with collaboration with the other people in our class. Our Scrum Master Abby decided that Period 5's theme would be Rate and Relate. This is because we had both elements, of rating books and randomized recipes, as well as something called the Instabox and my groups Update the Nest. I worked the frontend along with Shriya during this project. In Update the Nest, someone would be able to upload a photo of themselves and type in a caption. Their upload would then go through the backend's database and be displayed in the Update the Nest page. My job was to code the frontend, this basically meant lots and lots of styling. Initially we decided to make an outline of how we wanted the website to look like using canva as well as using canva to create a logo for Update the Nest shown below:\n",
    "\n",
    " <img src=\"{{site.baseurl}}/images/update_the_nest.png\">\n",
    "\n",
    "As stated before frontend was my job, and so I was in charge of making sure that the website looked appealing. I did a lot of centering images such as the logo, borders,and the prototype image included in the webiste. I also created a lot of the borders in order to section off the header and feed alongisde the elements in the feed such as the other posts when the website began working. When given the functions from the backend such as the ability to take the photos and choose your camera, I was also in charge of styling those elements, with the help of Shriya and advice from Abby, our scrum master, she thought it would be a god idea to have most of the borders and styling on the website to be black and pink. \n",
    "<img src=\"{{site.baseurl}}/images/update_the_nest_feed.png\">\n",
    "<img src=\"{{site.baseurl}}/images/styled_camera.png\">\n",
    "\n",
    "## Improvements: \n",
    "In this project my css abilities have grown a lot. I learned about new code to use such as the transform:. I used this code a lot and it was very helpful in centering and making sure every one of the elements was placed in the right spot. As well as my understanding of file names, variables, creating variables, and learning about scripts thanks to my frontend partner. Many variables were created and used in order to not change the styling of every element and to style specific things. The scripts were also something fairly new to me and I was introduced to them, however I do not fully understand them yet but I have some familiarity with them.\n",
    "\n",
    "## In conclusion:\n",
    "Reflecting on our webiste, I am pleased with how it looks and how much I've learned while creating the website. My frontened capabilities have improved a lot alongside my understanding of the css language and scripts. Overall the creation of Rate and Relate has taught me a lot of things and a lot of work was put into the webiste, I will also miss my old class and group as they have helped me a lot during Sprint 3 and the collaboration has been some of the best I've seen."
   ]
  }
 ],
 "metadata": {
  "language_info": {
   "name": "python"
  }
 },
 "nbformat": 4,
 "nbformat_minor": 2
}
