{
 "cells": [
  {
   "cell_type": "raw",
   "metadata": {
    "vscode": {
     "languageId": "raw"
    }
   },
   "source": [
    "---\n",
    "layout: post\n",
    "title: Sprint 3 Reflection\n",
    "permalink: /posts/sprint3-reflection/\n",
    "---"
   ]
  },
  {
   "cell_type": "markdown",
   "metadata": {},
   "source": [
    "# Sprint 3 Summary\n",
    "In Sprint 3 my group and I were tasked to create a social media platform with collaboration with the other people in our class. Our Scrum Master Abby decided that Period 5's theme would be Rate and Relate. This is because we had both elements, of rating books and randomized recipes, as well as something called the Instabox and my groups Update the Nest. I worked the frontend along with Shriya during this project. In Update the Nest, someone would be able to upload a photo of themselves and type in a caption. Their upload would then go through the backend's database and be displayed in the Update the Nest page. My job was to code the frontend. Initially we decided to make an outline of how we wanted the website to look like using canva, using it to create a logo for Update the Nest shown below:\n",
    "\n",
    " <img src=\"{{site.baseurl}}/images/update_the_nest.png\">\n",
    "\n",
    "As stated before frontend was my job, and so I was in charge of making sure that the website looked appealing. I did a lot of centering images such as the logo, borders,and the prototype image included in the webiste. I also created a lot of the borders in order to section off the header and feed alongisde the elements in the feed such as the other posts when the website began working. We had to make sure that our frontend and backend were connected using postman API and code that I wrote in order for errors to be caught. This meant making sure that when the backend's database stored an image with it's caption and who posted it from users of the webiste, it would then interact with the backend in order to send the data to be displayed on the frontend which would let it be seen in the Update the Nest's feed. The camera and camera are shown below as well as code for getting image id's from backend\n",
    "<img src=\"{{site.baseurl}}/images/update_the_nest_feed.png\">\n",
    "<img src=\"{{site.baseurl}}/images/styled_camera.png\">\n",
    "<img src=\"{{site.baseurl}}/images/jswork.png\">\n",
    "\n",
    "\n",
    "## Improvements: \n",
    "In this project my frontend abilities have grown a lot. I learned about new code to use such as the transform:, how frontend and backend works, and what an API is. Another thing that improved was my understanding of file names, variables, creating variables, and learning about scripts thanks to my frontend partner. Many variables were created and used in order to not change the styling of every element and to style specific things. \n",
    "\n",
    "## In conclusion:\n",
    "Reflecting on our webiste, I am pleased with how it looks and how much I've learned while creating the website. My frontened capabilities have improved a lot in comparison to sprint 2. Overall the creation of Rate and Relate has taught me a lot of things and a lot of work was put into the webiste, I will also miss my old class and group as they have helped me a lot during Sprint 3 and the collaboration has been some of the best I've seen. Furthermore this project I learned about new code to use such as the transform:, frontend design and how backend works, and what an API is. Another thing that improved was my understanding of file names, variables, creating variables, and learning about scripts thanks to my frontend partner."
   ]
  }
 ],
 "metadata": {
  "language_info": {
   "name": "python"
  }
 },
 "nbformat": 4,
 "nbformat_minor": 2
}
