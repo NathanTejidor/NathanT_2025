{
 "cells": [
  {
   "cell_type": "markdown",
   "metadata": {},
   "source": [
    "---\n",
    "layout: post\n",
    "title: About Me\n",
    "description: About me!\n",
    "permalink: /posts/about-me/\n",
    "comments: true\n",
    "---"
   ]
  },
  {
   "cell_type": "markdown",
   "metadata": {},
   "source": [
    "Creator of Student 2025\n",
    "My name is Nathan Tejidor. I am 15 and a sophomore at Del Norte Highschool. I am Filipino but I was born in San Diego. I enjoy playing basketball and badminton, listening to music and hanging out with my friends and family. I have 2 dogs, one is a sheprador mix and the other is a maltipoo. The sheprador is named Sabrina and the maltipoo is Chester. \n",
    "\n",
    "<span>\n",
    "    <img src=\"{{site.baseurl}}/images/phillipines_flag.png\" alt=\"flag image\" width=\"300\"/>\n",
    "    <img src=\"{{site.baseurl}}/images/Dog1.JPG\" alt=\"dog 1\" width=\"200\"/>\n",
    "    <img src=\"{{site.baseurl}}/images/Dog2.JPG\" alt=\"dog 2\" height=\"200\" width=\"150\"/>\n",
    "</span>\n",
    "\n",
    "I've lived in San Diego all my life and I have travelled to many different places over the years. Heres a list of the ones that I remember:\n",
    "\n",
    "<ul>\n",
    "    <li> Manila, Philippines </li>\n",
    "    <li> Quezon City, Philippines </li>\n",
    "    <li> Tagaytay, Philippines </li>\n",
    "    <li> Jerusalem, Israel </li>\n",
    "    <li> Barcelona, Spain</li>\n",
    "    <li> Honolulu, Hawaii </li>\n",
    "    <li> Pisa, Italy </li>\n",
    "    <li> Rome, Italy </li>\n",
    "</ul>"
   ]
  }
 ],
 "metadata": {
  "language_info": {
   "name": "python"
  }
 },
 "nbformat": 4,
 "nbformat_minor": 2
}
