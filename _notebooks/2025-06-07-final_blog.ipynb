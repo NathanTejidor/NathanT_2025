{
 "cells": [
  {
   "cell_type": "raw",
   "metadata": {
    "vscode": {
     "languageId": "raw"
    }
   },
   "source": [
    "---\n",
    "layout: post\n",
    "title: Final Blog\n",
    "type: issues\n",
    "comments: true\n",
    "permalink: /final-blog/\n",
    "---"
   ]
  },
  {
   "cell_type": "markdown",
   "metadata": {},
   "source": [
    "# Final Blog - CSP Projects Recap\n",
    "\n",
    "As the year comes to a close, here's a comprehensive look at the projects I worked on in CSP and what made each one a unique learning experience that pushed my technical skills forward.\n",
    "\n",
    "---\n",
    "\n",
    "## 📸 Rate and Relate\n",
    "Rate and Relate was my first CSP project, and it was a social media platform similar to Instagram where users could share photos, connect with friends, and build their personal feed. It focused on creating an engaging visual experience for users to showcase their moments and discover content from others.\n",
    "\n",
    "### Homepage  \n",
    "<img src=\"{{ site.baseurl }}/images/update_the_nest_feed.png\"/>\n",
    "\n",
    "---\n",
    "\n",
    "## 🍴 Take a Byte  \n",
    "Take a Byte was my 2nd project — a recipe discovery platform that helped users find meals across five different protein categories: beef, chicken, vegan, seafood, and lamb. The platform featured a cultural randomizer wheel that could suggest recipes from various cuisines like Chinese, Mexican, Italian, and more.\n",
    "\n",
    "### Homepage  \n",
    "<img src=\"{{ site.baseurl }}/images/take_a_byte.png\"/>\n",
    "\n",
    "I developed the **recipe randomization algorithm** that would present users with random cultural cuisine recipes in different categories based on which culture the wheel stopped on. The system connected to our backend database to pull relevant recipes and display them with ingredients, cooking instructions, and nutritional information.\n",
    "\n",
    "---\n",
    "\n",
    "## 🔥 Pyre \n",
    "This project focused on predicting and providing safety information for fires and earthquakes in the california area. The platform aims to help users prepare for and respond to emergency situations by providing real-time data, predictions, and safety protocols.\n",
    "\n",
    "<img src=\"{{ site.baseurl }}/images/dashboard.png\"/>\n",
    "\n",
    "I was responsible for **implementing the machine learning component** that predicts earthquake magnitudes based on historical seismic data. The model bases these on geological features such as depth, latitude, longitude, and previous seismic activity. This provided real-time magnitude predictions for california.\n",
    "\n",
    "---\n",
    "\n",
    "## 📖 Team Teach Lessons: Big O Notation & Digital Divide  \n",
    "At the start of tri 3, my group created comprehensive lesson plans on two important computer science topics: Big O Notation and Digital Divide.\n",
    "\n",
    "### Big O Notation Lesson Homepage  \n",
    "<img src=\"{{ site.baseurl }}/images/BigO.png\"/>\n",
    "\n",
    "### Digital Divide Lesson   \n",
    "  <img src=\"{{ site.baseurl }}/images/digitalD.png\"/>\n",
    "\n",
    "\n",
    "---\n",
    "\n",
    "Each of these projects represented significant growth in different areas — from social media development and algorithm design to machine learning implementation and educational content creation. The progression from basic JavaScript to complex ML integration shows how much my technical skills have evolved throughout this course!\n",
    "\n",
    "<img src=\"{{ site.baseurl }}/images/image.png\"/>\n",
    "<img src=\"{{ site.baseurl }}/images/image2.png\"/>\n",
    "\n",
    "---\n",
    "\n",
    "## 🌟 Key Traits & Qualities I Brought to Each Project\n",
    "\n",
    "Reflecting on my contributions across all these projects, I realize I consistently brought several important qualities to my teams:\n",
    "\n",
    "**Predictive data modeling:** Implemented machine learning algorithms that process seismic data to deliver accurate earthquake magnitude predictions.\n",
    "\n",
    "**Interactive educational tools:** Created hands-on learning experiences that transform abstract computer science concepts into \n",
    "\n",
    "**Technical Curiosity & Problem-Solving**: Whether I was figuring out real-time updates for Fill the Flock or implementing machine learning algorithms for earthquake prediction, I approached each technical challenge with genuine curiosity. I wasn't afraid to dive deep into documentation, experiment with different approaches, and iterate until I found solutions that worked.\n",
    "\n",
    "**Attention to User Experience**: Across all projects, I consistently focused on how end users would interact with our features. From the smooth activity feed in Rate and Relate and as tester on Pyre I prioritized making complex functionality feel simple and enjoyable to use.\n",
    "\n",
    "**System Integration Expertise:** I connected frontend interfaces with backend databases and apis, ensuring smooth data flow and real-time updates across all platform features.\n",
    "\n",
    "**Quality Focus**: I consistently pushed for polished, production-ready features rather than just functional prototypes. Whether it was the styling work on the magnitude prediction platform or the comprehensive lesson materials.\n",
    "\n",
    "These experiences and projects helped me learn what makes and breaks successful projects in a group setting."
   ]
  }
 ],
 "metadata": {
  "language_info": {
   "name": "python"
  }
 },
 "nbformat": 4,
 "nbformat_minor": 2
}
