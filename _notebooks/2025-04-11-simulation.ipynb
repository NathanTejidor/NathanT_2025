{
 "cells": [
  {
   "cell_type": "raw",
   "metadata": {
    "vscode": {
     "languageId": "raw"
    }
   },
   "source": [
    "---\n",
    "layout: post\n",
    "title: Simulation/Games and Random Algorithms\n",
    "permalink: /posts/simulation/\n",
    "---"
   ]
  },
  {
   "cell_type": "markdown",
   "metadata": {},
   "source": [
    "# Popcorn Hack 1"
   ]
  },
  {
   "cell_type": "code",
   "execution_count": 4,
   "metadata": {},
   "outputs": [],
   "source": [
    "import random\n",
    "\n",
    "def roll_dice():\n",
    "    return random.randint(1, 6)\n",
    "\n",
    "# print(\"Dice roll:\", roll_dice())"
   ]
  },
  {
   "cell_type": "markdown",
   "metadata": {},
   "source": [
    "# Popcorn Hack 2"
   ]
  },
  {
   "cell_type": "code",
   "execution_count": 2,
   "metadata": {},
   "outputs": [
    {
     "name": "stdout",
     "output_type": "stream",
     "text": [
      "Red\n",
      "Red\n",
      "Yellow\n",
      "Blue\n",
      "Blue\n",
      "Blue\n",
      "Red\n",
      "Blue\n",
      "Red\n",
      "Yellow\n"
     ]
    }
   ],
   "source": [
    "import random\n",
    "\n",
    "def biased_color():\n",
    "    colors = [\"Red\", \"Blue\", \"Green\", \"Yellow\", \"Purple\", \"Orange\"]\n",
    "    probabilities = [0.5, 0.3, 0.04, 0.04, 0.06, 0.06]\n",
    "\n",
    "    # Print 10 biased random colors\n",
    "    for _ in range(10):\n",
    "        print(random.choices(colors, probabilities)[0])\n",
    "\n",
    "biased_color()"
   ]
  },
  {
   "cell_type": "markdown",
   "metadata": {},
   "source": [
    "# Homework Hack "
   ]
  },
  {
   "cell_type": "code",
   "execution_count": 1,
   "metadata": {},
   "outputs": [
    {
     "name": "stdout",
     "output_type": "stream",
     "text": [
      "Player 2 wins in 3 rounds!\n"
     ]
    }
   ],
   "source": [
    "import random\n",
    "\n",
    "def coin_flip_game():\n",
    "    player1_heads = 0\n",
    "    player2_heads = 0\n",
    "    rounds = 0\n",
    "\n",
    "    while player1_heads < 3 and player2_heads < 3:\n",
    "        rounds += 1\n",
    "        # Player 1 flips the coin\n",
    "        if random.choice([\"heads\", \"tails\"]) == \"heads\":\n",
    "            player1_heads += 1\n",
    "        # Player 2 flips the coin\n",
    "        if random.choice([\"heads\", \"tails\"]) == \"heads\":\n",
    "            player2_heads += 1\n",
    "\n",
    "    if player1_heads == 3:\n",
    "        print(f\"Player 1 wins in {rounds} rounds!\")\n",
    "    else:\n",
    "        print(f\"Player 2 wins in {rounds} rounds!\")\n",
    "\n",
    "coin_flip_game()"
   ]
  }
 ],
 "metadata": {
  "kernelspec": {
   "display_name": "venv",
   "language": "python",
   "name": "python3"
  },
  "language_info": {
   "codemirror_mode": {
    "name": "ipython",
    "version": 3
   },
   "file_extension": ".py",
   "mimetype": "text/x-python",
   "name": "python",
   "nbconvert_exporter": "python",
   "pygments_lexer": "ipython3",
   "version": "3.9.6"
  }
 },
 "nbformat": 4,
 "nbformat_minor": 2
}
